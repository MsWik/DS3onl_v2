{
 "cells": [
  {
   "cell_type": "markdown",
   "id": "3fcda046",
   "metadata": {},
   "source": [
    "# Домашнее задание 35 \n",
    "### Козел А.Г. 30.03.2023 \n",
    "\n",
    "Выполнить оптимизацию ранее написанных нейронных сетей. Выбор на ваше усмотрение (лучше брать что то что относительно большое)\n",
    "Тспользуйте tensorrt. Сравните квантование float16 и float32. \n",
    "Дополнительно : tensorflow-lite\n",
    "Выполнить тестирование времени вывода и опреледилть есть ли падение точности."
   ]
  },
  {
   "cell_type": "code",
   "execution_count": 1,
   "id": "d3eefe2f",
   "metadata": {},
   "outputs": [],
   "source": [
    "import numpy as np\n",
    "import pandas as pd\n",
    "import cv2\n",
    "from sklearn.model_selection import train_test_split\n",
    "from sklearn.metrics import accuracy_score, mean_squared_error\n",
    "from tqdm import tqdm\n",
    "import matplotlib.pyplot as plt\n",
    "\n",
    "import gc\n",
    "from tensorflow.keras.models import load_model\n",
    "from tensorflow import saved_model\n"
   ]
  },
  {
   "cell_type": "code",
   "execution_count": 2,
   "id": "3b9d271a",
   "metadata": {},
   "outputs": [],
   "source": [
    "from tensorflow.keras.datasets import mnist\n",
    "from tensorflow.python.keras.models import Sequential\n",
    "\n",
    "from tensorflow.keras.layers import Dense, Conv2D, MaxPooling2D, Flatten, CategoryEncoding, Dropout, BatchNormalization, AveragePooling2D, GlobalMaxPool2D, MultiHeadAttention, Input\n",
    "from tensorflow.keras.models import Model\n",
    "from tensorflow.keras.optimizers import Adam\n",
    "from tensorflow.keras.callbacks import ModelCheckpoint, ReduceLROnPlateau\n",
    "from tensorflow.keras.metrics import RootMeanSquaredError\n",
    "from tensorflow.keras.preprocessing.image import ImageDataGenerator"
   ]
  },
  {
   "cell_type": "code",
   "execution_count": 3,
   "id": "508948f6",
   "metadata": {},
   "outputs": [],
   "source": [
    "df = pd.read_csv ('data_face.csv')\n",
    "train, test = train_test_split(df, test_size=0.2, random_state=34)\n",
    "                 "
   ]
  },
  {
   "cell_type": "code",
   "execution_count": 4,
   "id": "3458a40c",
   "metadata": {},
   "outputs": [],
   "source": [
    "model = load_model(\"ConvModel.h5\")"
   ]
  },
  {
   "cell_type": "code",
   "execution_count": 5,
   "id": "54e8f655",
   "metadata": {},
   "outputs": [
    {
     "name": "stdout",
     "output_type": "stream",
     "text": [
      "Model: \"model_1\"\n",
      "_________________________________________________________________\n",
      " Layer (type)                Output Shape              Param #   \n",
      "=================================================================\n",
      " input_2 (InputLayer)        [(None, 128, 128, 3)]     0         \n",
      "                                                                 \n",
      " conv2d_5 (Conv2D)           (None, 128, 128, 32)      896       \n",
      "                                                                 \n",
      " max_pooling2d_5 (MaxPooling  (None, 64, 64, 32)       0         \n",
      " 2D)                                                             \n",
      "                                                                 \n",
      " conv2d_6 (Conv2D)           (None, 64, 64, 64)        18496     \n",
      "                                                                 \n",
      " max_pooling2d_6 (MaxPooling  (None, 32, 32, 64)       0         \n",
      " 2D)                                                             \n",
      "                                                                 \n",
      " conv2d_7 (Conv2D)           (None, 32, 32, 128)       73856     \n",
      "                                                                 \n",
      " max_pooling2d_7 (MaxPooling  (None, 16, 16, 128)      0         \n",
      " 2D)                                                             \n",
      "                                                                 \n",
      " conv2d_8 (Conv2D)           (None, 16, 16, 256)       295168    \n",
      "                                                                 \n",
      " max_pooling2d_8 (MaxPooling  (None, 8, 8, 256)        0         \n",
      " 2D)                                                             \n",
      "                                                                 \n",
      " conv2d_9 (Conv2D)           (None, 8, 8, 512)         1180160   \n",
      "                                                                 \n",
      " max_pooling2d_9 (MaxPooling  (None, 4, 4, 512)        0         \n",
      " 2D)                                                             \n",
      "                                                                 \n",
      " global_max_pooling2d_1 (Glo  (None, 512)              0         \n",
      " balMaxPooling2D)                                                \n",
      "                                                                 \n",
      " dense_4 (Dense)             (None, 512)               262656    \n",
      "                                                                 \n",
      " dense_5 (Dense)             (None, 1)                 513       \n",
      "                                                                 \n",
      "=================================================================\n",
      "Total params: 1,831,745\n",
      "Trainable params: 1,831,745\n",
      "Non-trainable params: 0\n",
      "_________________________________________________________________\n"
     ]
    }
   ],
   "source": [
    "model.summary()"
   ]
  },
  {
   "cell_type": "code",
   "execution_count": 6,
   "id": "475deeed",
   "metadata": {},
   "outputs": [
    {
     "name": "stderr",
     "output_type": "stream",
     "text": [
      "15it [00:04,  3.45it/s]\n"
     ]
    },
    {
     "ename": "ValueError",
     "evalue": "cannot reshape array of size 16384 into shape (1,128,128,3)",
     "output_type": "error",
     "traceback": [
      "\u001b[1;31m---------------------------------------------------------------------------\u001b[0m",
      "\u001b[1;31mValueError\u001b[0m                                Traceback (most recent call last)",
      "Cell \u001b[1;32mIn[6], line 9\u001b[0m\n\u001b[0;32m      7\u001b[0m image \u001b[38;5;241m=\u001b[39m plt\u001b[38;5;241m.\u001b[39mimread(link[\u001b[38;5;241m1\u001b[39m])\n\u001b[0;32m      8\u001b[0m img_resized \u001b[38;5;241m=\u001b[39m cv2\u001b[38;5;241m.\u001b[39mresize(image, (\u001b[38;5;241m128\u001b[39m,\u001b[38;5;241m128\u001b[39m))\u001b[38;5;241m/\u001b[39m\u001b[38;5;241m255\u001b[39m\n\u001b[1;32m----> 9\u001b[0m img_reshaped  \u001b[38;5;241m=\u001b[39m \u001b[43mimg_resized\u001b[49m\u001b[38;5;241;43m.\u001b[39;49m\u001b[43mreshape\u001b[49m\u001b[43m \u001b[49m\u001b[43m(\u001b[49m\u001b[38;5;241;43m1\u001b[39;49m\u001b[43m,\u001b[49m\u001b[38;5;241;43m128\u001b[39;49m\u001b[43m,\u001b[49m\u001b[38;5;241;43m128\u001b[39;49m\u001b[43m,\u001b[49m\u001b[38;5;241;43m3\u001b[39;49m\u001b[43m)\u001b[49m\n\u001b[0;32m     10\u001b[0m predict \u001b[38;5;241m=\u001b[39m model\u001b[38;5;241m.\u001b[39mpredict(img_reshaped, verbose\u001b[38;5;241m=\u001b[39m\u001b[38;5;241m0\u001b[39m)[\u001b[38;5;241m0\u001b[39m][\u001b[38;5;241m0\u001b[39m]\n\u001b[0;32m     12\u001b[0m expected\u001b[38;5;241m.\u001b[39mappend (link[\u001b[38;5;241m2\u001b[39m])\n",
      "\u001b[1;31mValueError\u001b[0m: cannot reshape array of size 16384 into shape (1,128,128,3)"
     ]
    }
   ],
   "source": [
    "idx = np.random.randint (0,len(test), 500)\n",
    "expected = []\n",
    "predicted = []\n",
    "\n",
    "for idx in tqdm(enumerate(idx)):\n",
    "    link = test.iloc[idx[1]]\n",
    "    image = plt.imread(link[1])\n",
    "    img_resized = cv2.resize(image, (128,128))/255\n",
    "    img_reshaped  = img_resized.reshape (1,128,128,3)\n",
    "    predict = model.predict(img_reshaped, verbose=0)[0][0]\n",
    "    \n",
    "    expected.append (link[2])\n",
    "    predicted.append (predict)"
   ]
  },
  {
   "cell_type": "code",
   "execution_count": 9,
   "id": "67365469",
   "metadata": {},
   "outputs": [
    {
     "data": {
      "text/plain": [
       "10.785794848824551"
      ]
     },
     "execution_count": 9,
     "metadata": {},
     "output_type": "execute_result"
    }
   ],
   "source": [
    "mean_squared_error(expected, predicted)**0.5"
   ]
  },
  {
   "cell_type": "code",
   "execution_count": 10,
   "id": "cee76ead",
   "metadata": {},
   "outputs": [],
   "source": [
    "#!pip install \"c:\\Users\\37533\\Desktop\\jupyter\\ДЗ_33\\tensorrt-8.5.3.1-cp39-none-win_amd64.whl\""
   ]
  },
  {
   "cell_type": "code",
   "execution_count": 11,
   "id": "c442aff9",
   "metadata": {
    "scrolled": true
   },
   "outputs": [],
   "source": [
    "import tensorrt as trt\n",
    "import onnx, tf2onnx  "
   ]
  },
  {
   "cell_type": "code",
   "execution_count": 12,
   "id": "7b4e9aaa",
   "metadata": {},
   "outputs": [],
   "source": [
    "import pycuda.driver as cuda\n",
    "import pycuda.autoinit"
   ]
  },
  {
   "cell_type": "code",
   "execution_count": 13,
   "id": "8c4add83",
   "metadata": {},
   "outputs": [
    {
     "name": "stderr",
     "output_type": "stream",
     "text": [
      "C:\\Users\\37533\\anaconda3\\envs\\tensorflow\\lib\\runpy.py:127: RuntimeWarning: 'tf2onnx.convert' found in sys.modules after import of package 'tf2onnx', but prior to execution of 'tf2onnx.convert'; this may result in unpredictable behaviour\n",
      "  warn(RuntimeWarning(msg))\n",
      "2023-05-01 17:24:47,199 - WARNING - '--tag' not specified for saved_model. Using --tag serve\n",
      "Traceback (most recent call last):\n",
      "  File \"C:\\Users\\37533\\anaconda3\\envs\\tensorflow\\lib\\runpy.py\", line 197, in _run_module_as_main\n",
      "    return _run_code(code, main_globals, None,\n",
      "  File \"C:\\Users\\37533\\anaconda3\\envs\\tensorflow\\lib\\runpy.py\", line 87, in _run_code\n",
      "    exec(code, run_globals)\n",
      "  File \"C:\\Users\\37533\\anaconda3\\envs\\tensorflow\\lib\\site-packages\\tf2onnx\\convert.py\", line 710, in <module>\n",
      "    main()\n",
      "  File \"C:\\Users\\37533\\anaconda3\\envs\\tensorflow\\lib\\site-packages\\tf2onnx\\convert.py\", line 242, in main\n",
      "    graph_def, inputs, outputs, initialized_tables, tensors_to_rename = tf_loader.from_saved_model(\n",
      "  File \"C:\\Users\\37533\\anaconda3\\envs\\tensorflow\\lib\\site-packages\\tf2onnx\\tf_loader.py\", line 611, in from_saved_model\n",
      "    _from_saved_model_v2(model_path, input_names, output_names,\n",
      "  File \"C:\\Users\\37533\\anaconda3\\envs\\tensorflow\\lib\\site-packages\\tf2onnx\\tf_loader.py\", line 549, in _from_saved_model_v2\n",
      "    imported = tf.saved_model.load(model_path, tags=tag)  # pylint: disable=no-value-for-parameter\n",
      "  File \"C:\\Users\\37533\\anaconda3\\envs\\tensorflow\\lib\\site-packages\\tensorflow\\python\\saved_model\\load.py\", line 800, in load\n",
      "    result = load_partial(export_dir, None, tags, options)[\"root\"]\n",
      "  File \"C:\\Users\\37533\\anaconda3\\envs\\tensorflow\\lib\\site-packages\\tensorflow\\python\\saved_model\\load.py\", line 905, in load_partial\n",
      "    loader_impl.parse_saved_model_with_debug_info(export_dir))\n",
      "  File \"C:\\Users\\37533\\anaconda3\\envs\\tensorflow\\lib\\site-packages\\tensorflow\\python\\saved_model\\loader_impl.py\", line 57, in parse_saved_model_with_debug_info\n",
      "    saved_model = parse_saved_model(export_dir)\n",
      "  File \"C:\\Users\\37533\\anaconda3\\envs\\tensorflow\\lib\\site-packages\\tensorflow\\python\\saved_model\\loader_impl.py\", line 115, in parse_saved_model\n",
      "    raise IOError(\n",
      "OSError: SavedModel file does not exist at: tmp_model\\{saved_model.pbtxt|saved_model.pb}\n"
     ]
    }
   ],
   "source": [
    "!python -m tf2onnx.convert --saved-model tmp_model --output temp.onnx"
   ]
  },
  {
   "cell_type": "code",
   "execution_count": 14,
   "id": "7b2d00fb",
   "metadata": {},
   "outputs": [
    {
     "ename": "FileNotFoundError",
     "evalue": "[Errno 2] No such file or directory: 'temp.onnx'",
     "output_type": "error",
     "traceback": [
      "\u001b[1;31m---------------------------------------------------------------------------\u001b[0m",
      "\u001b[1;31mFileNotFoundError\u001b[0m                         Traceback (most recent call last)",
      "Cell \u001b[1;32mIn[14], line 1\u001b[0m\n\u001b[1;32m----> 1\u001b[0m onnx_model \u001b[38;5;241m=\u001b[39m \u001b[43monnx\u001b[49m\u001b[38;5;241;43m.\u001b[39;49m\u001b[43mload_model\u001b[49m\u001b[43m(\u001b[49m\u001b[38;5;124;43m'\u001b[39;49m\u001b[38;5;124;43mtemp.onnx\u001b[39;49m\u001b[38;5;124;43m'\u001b[39;49m\u001b[43m)\u001b[49m\n",
      "File \u001b[1;32m~\\anaconda3\\envs\\tensorflow\\lib\\site-packages\\onnx\\__init__.py:133\u001b[0m, in \u001b[0;36mload_model\u001b[1;34m(f, format, load_external_data)\u001b[0m\n\u001b[0;32m    116\u001b[0m \u001b[38;5;28;01mdef\u001b[39;00m \u001b[38;5;21mload_model\u001b[39m(\n\u001b[0;32m    117\u001b[0m     f: Union[IO[\u001b[38;5;28mbytes\u001b[39m], \u001b[38;5;28mstr\u001b[39m],\n\u001b[0;32m    118\u001b[0m     \u001b[38;5;28mformat\u001b[39m: Optional[Any] \u001b[38;5;241m=\u001b[39m \u001b[38;5;28;01mNone\u001b[39;00m,\n\u001b[0;32m    119\u001b[0m     load_external_data: \u001b[38;5;28mbool\u001b[39m \u001b[38;5;241m=\u001b[39m \u001b[38;5;28;01mTrue\u001b[39;00m,\n\u001b[0;32m    120\u001b[0m ) \u001b[38;5;241m-\u001b[39m\u001b[38;5;241m>\u001b[39m ModelProto:\n\u001b[0;32m    121\u001b[0m     \u001b[38;5;124;03m\"\"\"\u001b[39;00m\n\u001b[0;32m    122\u001b[0m \u001b[38;5;124;03m    Loads a serialized ModelProto into memory\u001b[39;00m\n\u001b[0;32m    123\u001b[0m \u001b[38;5;124;03m    load_external_data is true if the external data under the same directory of the model and load the external data\u001b[39;00m\n\u001b[1;32m   (...)\u001b[0m\n\u001b[0;32m    131\u001b[0m \u001b[38;5;124;03m        Loaded in-memory ModelProto\u001b[39;00m\n\u001b[0;32m    132\u001b[0m \u001b[38;5;124;03m    \"\"\"\u001b[39;00m\n\u001b[1;32m--> 133\u001b[0m     s \u001b[38;5;241m=\u001b[39m \u001b[43m_load_bytes\u001b[49m\u001b[43m(\u001b[49m\u001b[43mf\u001b[49m\u001b[43m)\u001b[49m\n\u001b[0;32m    134\u001b[0m     model \u001b[38;5;241m=\u001b[39m load_model_from_string(s, \u001b[38;5;28mformat\u001b[39m\u001b[38;5;241m=\u001b[39m\u001b[38;5;28mformat\u001b[39m)\n\u001b[0;32m    136\u001b[0m     \u001b[38;5;28;01mif\u001b[39;00m load_external_data:\n",
      "File \u001b[1;32m~\\anaconda3\\envs\\tensorflow\\lib\\site-packages\\onnx\\__init__.py:34\u001b[0m, in \u001b[0;36m_load_bytes\u001b[1;34m(f)\u001b[0m\n\u001b[0;32m     32\u001b[0m     s \u001b[38;5;241m=\u001b[39m cast(IO[\u001b[38;5;28mbytes\u001b[39m], f)\u001b[38;5;241m.\u001b[39mread()\n\u001b[0;32m     33\u001b[0m \u001b[38;5;28;01melse\u001b[39;00m:\n\u001b[1;32m---> 34\u001b[0m     \u001b[38;5;28;01mwith\u001b[39;00m \u001b[38;5;28;43mopen\u001b[39;49m\u001b[43m(\u001b[49m\u001b[43mcast\u001b[49m\u001b[43m(\u001b[49m\u001b[38;5;28;43mstr\u001b[39;49m\u001b[43m,\u001b[49m\u001b[43m \u001b[49m\u001b[43mf\u001b[49m\u001b[43m)\u001b[49m\u001b[43m,\u001b[49m\u001b[43m \u001b[49m\u001b[38;5;124;43m\"\u001b[39;49m\u001b[38;5;124;43mrb\u001b[39;49m\u001b[38;5;124;43m\"\u001b[39;49m\u001b[43m)\u001b[49m \u001b[38;5;28;01mas\u001b[39;00m readable:\n\u001b[0;32m     35\u001b[0m         s \u001b[38;5;241m=\u001b[39m readable\u001b[38;5;241m.\u001b[39mread()\n\u001b[0;32m     36\u001b[0m \u001b[38;5;28;01mreturn\u001b[39;00m s\n",
      "\u001b[1;31mFileNotFoundError\u001b[0m: [Errno 2] No such file or directory: 'temp.onnx'"
     ]
    }
   ],
   "source": [
    "onnx_model = onnx.load_model('temp.onnx')"
   ]
  },
  {
   "cell_type": "code",
   "execution_count": null,
   "id": "b7561d0d",
   "metadata": {},
   "outputs": [],
   "source": []
  },
  {
   "cell_type": "code",
   "execution_count": null,
   "id": "37cd16fb",
   "metadata": {},
   "outputs": [],
   "source": []
  },
  {
   "cell_type": "code",
   "execution_count": null,
   "id": "ce0b9903",
   "metadata": {},
   "outputs": [],
   "source": []
  },
  {
   "cell_type": "code",
   "execution_count": null,
   "id": "0d157364",
   "metadata": {},
   "outputs": [],
   "source": []
  },
  {
   "cell_type": "code",
   "execution_count": null,
   "id": "4d039bd5",
   "metadata": {},
   "outputs": [],
   "source": []
  }
 ],
 "metadata": {
  "kernelspec": {
   "display_name": "Python 3 (ipykernel)",
   "language": "python",
   "name": "python3"
  },
  "language_info": {
   "codemirror_mode": {
    "name": "ipython",
    "version": 3
   },
   "file_extension": ".py",
   "mimetype": "text/x-python",
   "name": "python",
   "nbconvert_exporter": "python",
   "pygments_lexer": "ipython3",
   "version": "3.9.16"
  }
 },
 "nbformat": 4,
 "nbformat_minor": 5
}
