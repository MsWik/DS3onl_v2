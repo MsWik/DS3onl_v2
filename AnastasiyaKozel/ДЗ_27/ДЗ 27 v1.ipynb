{
 "cells": [
  {
   "cell_type": "markdown",
   "id": "f80a4a02",
   "metadata": {},
   "source": [
    "## Домашнее задание 27\n",
    "### Козел А.Г. 15.02.2023\n",
    "Провести обучение сети на наборе данных notMNIST_small."
   ]
  },
  {
   "cell_type": "code",
   "execution_count": 1,
   "id": "1696eabb",
   "metadata": {},
   "outputs": [],
   "source": [
    "import sys\n",
    "import sklearn\n",
    "import tensorflow as tf\n",
    "import numpy as np\n",
    "import os\n",
    "import random\n",
    "%matplotlib inline\n",
    "import matplotlib as mpl\n",
    "import matplotlib.pyplot as plt\n",
    "from PIL import Image\n",
    "\n",
    "import warnings\n",
    "warnings.filterwarnings(action=\"ignore\", message=\"^internal gelsd\")\n",
    "\n",
    "import pandas as pd\n",
    "from sklearn import metrics\n",
    "from tensorflow import keras\n",
    "from sklearn.preprocessing import StandardScaler, LabelEncoder\n",
    "from sklearn.model_selection import train_test_split\n",
    "from tensorflow.keras.datasets import mnist\n",
    "from tensorflow.python.keras.models import Sequential\n",
    "\n",
    "from tensorflow.keras.layers import Dense, Conv2D, MaxPooling2D, Flatten, CategoryEncoding, Dropout"
   ]
  },
  {
   "cell_type": "code",
   "execution_count": 2,
   "id": "7ca7c49c",
   "metadata": {},
   "outputs": [],
   "source": [
    "from tensorflow.keras.layers import Dense, Conv2D, MaxPooling2D, Flatten, CategoryEncoding, Dropout"
   ]
  },
  {
   "cell_type": "code",
   "execution_count": 3,
   "id": "e236b3a1",
   "metadata": {},
   "outputs": [
    {
     "data": {
      "text/plain": [
       "'2.10.1'"
      ]
     },
     "execution_count": 3,
     "metadata": {},
     "output_type": "execute_result"
    }
   ],
   "source": [
    "tf.__version__"
   ]
  },
  {
   "cell_type": "code",
   "execution_count": 4,
   "id": "95eae27a",
   "metadata": {},
   "outputs": [
    {
     "data": {
      "text/plain": [
       "[PhysicalDevice(name='/physical_device:GPU:0', device_type='GPU')]"
      ]
     },
     "execution_count": 4,
     "metadata": {},
     "output_type": "execute_result"
    }
   ],
   "source": [
    "tf.config.list_physical_devices('GPU')"
   ]
  },
  {
   "cell_type": "markdown",
   "id": "6bb66a88",
   "metadata": {},
   "source": [
    "### Загружаем файлы"
   ]
  },
  {
   "cell_type": "code",
   "execution_count": 5,
   "id": "65d66ba3",
   "metadata": {},
   "outputs": [],
   "source": [
    "data = 'c:\\\\Users\\\\37533\\\\Desktop\\\\jupyter\\\\ДЗ_27\\\\notMNIST_small'"
   ]
  },
  {
   "cell_type": "code",
   "execution_count": 6,
   "id": "f4e37bef",
   "metadata": {},
   "outputs": [],
   "source": [
    "df = []\n",
    "folders = []\n",
    " \n",
    "for folder in os.listdir('./notMNIST_small'):\n",
    "    for file in os.listdir(os.path.join(data, folder)):\n",
    "        try:\n",
    "            img = Image.open(os.path.join(data, folder, file))\n",
    "            if (np.array(img)==np.ones(shape=(28,28), dtype=np.uint8)).all()==False and (np.array(img)==np.zeros(shape=(28,28), dtype=np.uint8)).all()==False:\n",
    "                df.append(np.asarray(img, dtype=np.float32))\n",
    "                folders.append(folder)\n",
    "                      \n",
    "            else:\n",
    "                continue\n",
    "        except:\n",
    "            None \n",
    "\n",
    "df = np.asarray(df)\n",
    "folders = np.asarray(folders)"
   ]
  },
  {
   "cell_type": "code",
   "execution_count": 7,
   "id": "e23aa6fc",
   "metadata": {},
   "outputs": [
    {
     "data": {
      "text/plain": [
       "(18724, 28, 28)"
      ]
     },
     "execution_count": 7,
     "metadata": {},
     "output_type": "execute_result"
    }
   ],
   "source": [
    "df.shape"
   ]
  },
  {
   "cell_type": "markdown",
   "id": "b105ce77",
   "metadata": {},
   "source": [
    "Пыталась отфильтровать нулевые и единичные матрицы, но что-то ничего не вышло. Тоже количество осталось"
   ]
  },
  {
   "cell_type": "code",
   "execution_count": 8,
   "id": "aed29d6e",
   "metadata": {},
   "outputs": [
    {
     "data": {
      "text/plain": [
       "{'A', 'B', 'C', 'D', 'E', 'F', 'G', 'H', 'I', 'J'}"
      ]
     },
     "execution_count": 8,
     "metadata": {},
     "output_type": "execute_result"
    }
   ],
   "source": [
    "set(folders)"
   ]
  },
  {
   "cell_type": "code",
   "execution_count": 9,
   "id": "11b57f96",
   "metadata": {},
   "outputs": [
    {
     "data": {
      "text/plain": [
       "<Figure size 640x480 with 0 Axes>"
      ]
     },
     "metadata": {},
     "output_type": "display_data"
    },
    {
     "data": {
      "image/png": "[encoded data removed]",
      "text/plain": [
       "<Figure size 500x500 with 10 Axes>"
      ]
     },
     "metadata": {},
     "output_type": "display_data"
    }
   ],
   "source": [
    "plt.gray()\n",
    "fig = plt.figure(figsize=(5, 5))  # размер\n",
    "fig.subplots_adjust(left=0, right=1, bottom=0, top=0.5)  # параметры макета подграфика\n",
    "for i in range(10):\n",
    "    folder_random = random.choice(folders)\n",
    "    ax = fig.add_subplot(2, 5, i + 1, xticks=[], yticks=[])\n",
    "    ax.imshow(plt.imread(os.path.join(data, folder_random, file)),  cmap=plt.cm.binary) \n",
    "# для выбора другой цветовой гаммы https://matplotlib.org/3.1.0/_images/sphx_glr_colormaps_003.png\n",
    "    ax.text(0, 7, str(folder_random)) # целевая метка класса"
   ]
  },
  {
   "cell_type": "markdown",
   "id": "d2128caa",
   "metadata": {},
   "source": [
    "### Подготовка данных"
   ]
  },
  {
   "cell_type": "code",
   "execution_count": 10,
   "id": "45d7dbe4",
   "metadata": {},
   "outputs": [],
   "source": [
    "# Перемешаем случайным образом исходные массивы изображений и меток\n",
    "y = folders\n",
    "X =df\n",
    "encoding = CategoryEncoding(num_tokens=10, output_mode=\"one_hot\")\n",
    "y_enc = encoding(LabelEncoder().fit_transform(y)).numpy()\n",
    "np.random.shuffle(np.arange(X.shape[0]))\n",
    "X, y_enc = X[np.arange(X.shape[0])], y_enc[np.arange(X.shape[0])]\n",
    "# Выполним нормализацию значений\n",
    "X = X / 255.0\n",
    "# Выполним разбиение масивов на обучающий и тестовый наборы\n",
    "X_train, X_test, y_train, y_test = train_test_split(X,y_enc, train_size=0.7, random_state=42)"
   ]
  },
  {
   "cell_type": "code",
   "execution_count": 11,
   "id": "31fdf9af",
   "metadata": {},
   "outputs": [
    {
     "name": "stdout",
     "output_type": "stream",
     "text": [
      "(13106, 28, 28)\n"
     ]
    },
    {
     "data": {
      "text/plain": [
       "13106"
      ]
     },
     "execution_count": 11,
     "metadata": {},
     "output_type": "execute_result"
    }
   ],
   "source": [
    "print(X_train.shape)\n",
    "len(y_train)"
   ]
  },
  {
   "cell_type": "markdown",
   "id": "ca650fea",
   "metadata": {},
   "source": [
    "### Модель 1"
   ]
  },
  {
   "cell_type": "code",
   "execution_count": 20,
   "id": "c0abb83d",
   "metadata": {},
   "outputs": [],
   "source": [
    "from functools import partial\n",
    "\n",
    "DefaultConv2D = partial(keras.layers.Conv2D,\n",
    "                        kernel_size=3, activation='relu', padding=\"SAME\")\n",
    "\n",
    "model = keras.models.Sequential([\n",
    "    DefaultConv2D(filters=32, kernel_size=3, input_shape=[28, 28, 1]),\n",
    "    keras.layers.MaxPooling2D(pool_size=2),\n",
    "    DefaultConv2D(filters=64),\n",
    "    DefaultConv2D(filters=64),\n",
    "    keras.layers.MaxPooling2D(pool_size=2),\n",
    "    DefaultConv2D(filters=128,kernel_size=1),\n",
    "    DefaultConv2D(filters=128,kernel_size=1),\n",
    "    keras.layers.MaxPooling2D(pool_size=2),\n",
    "    keras.layers.Flatten(),\n",
    "    keras.layers.Dense(units=64, activation='relu'),\n",
    "    keras.layers.Dropout(0.5),\n",
    "    keras.layers.Dense(units=32, activation='relu'),\n",
    "    keras.layers.Dropout(0.2),\n",
    "    keras.layers.Dense(units=10, activation='softmax'),\n",
    "])\n",
    "\n"
   ]
  },
  {
   "cell_type": "code",
   "execution_count": 21,
   "id": "3129bf14",
   "metadata": {},
   "outputs": [
    {
     "name": "stdout",
     "output_type": "stream",
     "text": [
      "Model: \"sequential_1\"\n",
      "_________________________________________________________________\n",
      " Layer (type)                Output Shape              Param #   \n",
      "=================================================================\n",
      " conv2d_5 (Conv2D)           (None, 28, 28, 32)        320       \n",
      "                                                                 \n",
      " max_pooling2d_3 (MaxPooling  (None, 14, 14, 32)       0         \n",
      " 2D)                                                             \n",
      "                                                                 \n",
      " conv2d_6 (Conv2D)           (None, 14, 14, 64)        18496     \n",
      "                                                                 \n",
      " conv2d_7 (Conv2D)           (None, 14, 14, 64)        36928     \n",
      "                                                                 \n",
      " max_pooling2d_4 (MaxPooling  (None, 7, 7, 64)         0         \n",
      " 2D)                                                             \n",
      "                                                                 \n",
      " conv2d_8 (Conv2D)           (None, 7, 7, 128)         8320      \n",
      "                                                                 \n",
      " conv2d_9 (Conv2D)           (None, 7, 7, 128)         16512     \n",
      "                                                                 \n",
      " max_pooling2d_5 (MaxPooling  (None, 3, 3, 128)        0         \n",
      " 2D)                                                             \n",
      "                                                                 \n",
      " flatten_1 (Flatten)         (None, 1152)              0         \n",
      "                                                                 \n",
      " dense_3 (Dense)             (None, 64)                73792     \n",
      "                                                                 \n",
      " dropout_2 (Dropout)         (None, 64)                0         \n",
      "                                                                 \n",
      " dense_4 (Dense)             (None, 32)                2080      \n",
      "                                                                 \n",
      " dropout_3 (Dropout)         (None, 32)                0         \n",
      "                                                                 \n",
      " dense_5 (Dense)             (None, 10)                330       \n",
      "                                                                 \n",
      "=================================================================\n",
      "Total params: 156,778\n",
      "Trainable params: 156,778\n",
      "Non-trainable params: 0\n",
      "_________________________________________________________________\n"
     ]
    }
   ],
   "source": [
    "model.summary()  "
   ]
  },
  {
   "cell_type": "code",
   "execution_count": 22,
   "id": "27389ab3",
   "metadata": {},
   "outputs": [],
   "source": [
    "model.compile(loss=\"categorical_crossentropy\", optimizer=\"adam\", metrics=[\"accuracy\"])"
   ]
  },
  {
   "cell_type": "code",
   "execution_count": 23,
   "id": "240fdc3c",
   "metadata": {},
   "outputs": [],
   "source": [
    "callbacks = [\n",
    "    tf.keras.callbacks.EarlyStopping(\n",
    "        monitor='accuracy',\n",
    "        min_delta=1e-3,\n",
    "        patience=5,\n",
    "        verbose=1\n",
    "    ),]"
   ]
  },
  {
   "cell_type": "code",
   "execution_count": 24,
   "id": "8b125c50",
   "metadata": {},
   "outputs": [
    {
     "name": "stdout",
     "output_type": "stream",
     "text": [
      "Epoch 1/30\n",
      "52/52 [==============================] - 4s 61ms/step - loss: 1.7510 - accuracy: 0.3668 - val_loss: 0.6944 - val_accuracy: 0.8382\n",
      "Epoch 2/30\n",
      "52/52 [==============================] - 3s 48ms/step - loss: 0.9412 - accuracy: 0.6947 - val_loss: 0.4358 - val_accuracy: 0.8861\n",
      "Epoch 3/30\n",
      "52/52 [==============================] - 3s 49ms/step - loss: 0.7247 - accuracy: 0.7678 - val_loss: 0.3751 - val_accuracy: 0.8944\n",
      "Epoch 4/30\n",
      "52/52 [==============================] - 3s 49ms/step - loss: 0.6076 - accuracy: 0.8083 - val_loss: 0.3099 - val_accuracy: 0.9112\n",
      "Epoch 5/30\n",
      "52/52 [==============================] - 2s 48ms/step - loss: 0.5364 - accuracy: 0.8315 - val_loss: 0.2891 - val_accuracy: 0.9124\n",
      "Epoch 6/30\n",
      "52/52 [==============================] - 3s 49ms/step - loss: 0.4762 - accuracy: 0.8472 - val_loss: 0.2827 - val_accuracy: 0.9165\n",
      "Epoch 7/30\n",
      "52/52 [==============================] - 3s 49ms/step - loss: 0.4403 - accuracy: 0.8632 - val_loss: 0.2608 - val_accuracy: 0.9249\n",
      "Epoch 8/30\n",
      "52/52 [==============================] - 3s 49ms/step - loss: 0.4295 - accuracy: 0.8639 - val_loss: 0.2415 - val_accuracy: 0.9288\n",
      "Epoch 9/30\n",
      "52/52 [==============================] - 3s 49ms/step - loss: 0.3861 - accuracy: 0.8761 - val_loss: 0.2479 - val_accuracy: 0.9245\n",
      "Epoch 10/30\n",
      "52/52 [==============================] - 3s 49ms/step - loss: 0.3743 - accuracy: 0.8831 - val_loss: 0.2225 - val_accuracy: 0.9331\n",
      "Epoch 11/30\n",
      "52/52 [==============================] - 3s 49ms/step - loss: 0.3608 - accuracy: 0.8856 - val_loss: 0.2238 - val_accuracy: 0.9340\n",
      "Epoch 12/30\n",
      "52/52 [==============================] - 3s 49ms/step - loss: 0.3477 - accuracy: 0.8910 - val_loss: 0.2102 - val_accuracy: 0.9361\n",
      "Epoch 13/30\n",
      "52/52 [==============================] - 3s 49ms/step - loss: 0.3345 - accuracy: 0.8980 - val_loss: 0.2073 - val_accuracy: 0.9413\n",
      "Epoch 14/30\n",
      "52/52 [==============================] - 3s 49ms/step - loss: 0.3206 - accuracy: 0.9015 - val_loss: 0.2055 - val_accuracy: 0.9379\n",
      "Epoch 15/30\n",
      "52/52 [==============================] - 3s 49ms/step - loss: 0.2993 - accuracy: 0.9064 - val_loss: 0.2014 - val_accuracy: 0.9393\n",
      "Epoch 16/30\n",
      "52/52 [==============================] - 3s 49ms/step - loss: 0.2976 - accuracy: 0.9042 - val_loss: 0.2055 - val_accuracy: 0.9372\n",
      "Epoch 17/30\n",
      "52/52 [==============================] - 3s 49ms/step - loss: 0.2881 - accuracy: 0.9097 - val_loss: 0.1945 - val_accuracy: 0.9423\n",
      "Epoch 18/30\n",
      "52/52 [==============================] - 3s 48ms/step - loss: 0.2727 - accuracy: 0.9121 - val_loss: 0.1864 - val_accuracy: 0.9439\n",
      "Epoch 19/30\n",
      "52/52 [==============================] - 3s 49ms/step - loss: 0.2645 - accuracy: 0.9137 - val_loss: 0.1818 - val_accuracy: 0.9455\n",
      "Epoch 20/30\n",
      "52/52 [==============================] - 3s 50ms/step - loss: 0.2552 - accuracy: 0.9185 - val_loss: 0.1857 - val_accuracy: 0.9452\n",
      "Epoch 21/30\n",
      "52/52 [==============================] - 3s 49ms/step - loss: 0.2552 - accuracy: 0.9158 - val_loss: 0.1871 - val_accuracy: 0.9452\n",
      "Epoch 22/30\n",
      "52/52 [==============================] - 3s 49ms/step - loss: 0.2354 - accuracy: 0.9235 - val_loss: 0.1871 - val_accuracy: 0.9452\n",
      "Epoch 23/30\n",
      "52/52 [==============================] - 3s 49ms/step - loss: 0.2461 - accuracy: 0.9195 - val_loss: 0.1793 - val_accuracy: 0.9468\n",
      "Epoch 24/30\n",
      "52/52 [==============================] - 2s 48ms/step - loss: 0.2291 - accuracy: 0.9242 - val_loss: 0.1921 - val_accuracy: 0.9455\n",
      "Epoch 25/30\n",
      "52/52 [==============================] - 3s 49ms/step - loss: 0.2308 - accuracy: 0.9239 - val_loss: 0.1794 - val_accuracy: 0.9462\n",
      "Epoch 26/30\n",
      "52/52 [==============================] - 3s 49ms/step - loss: 0.2213 - accuracy: 0.9274 - val_loss: 0.1919 - val_accuracy: 0.9441\n",
      "Epoch 27/30\n",
      "52/52 [==============================] - 3s 50ms/step - loss: 0.2128 - accuracy: 0.9325 - val_loss: 0.1905 - val_accuracy: 0.9475\n",
      "Epoch 28/30\n",
      "52/52 [==============================] - 3s 49ms/step - loss: 0.2140 - accuracy: 0.9302 - val_loss: 0.1760 - val_accuracy: 0.9491\n",
      "Epoch 29/30\n",
      "52/52 [==============================] - 3s 49ms/step - loss: 0.2089 - accuracy: 0.9299 - val_loss: 0.1801 - val_accuracy: 0.9462\n",
      "Epoch 30/30\n",
      "52/52 [==============================] - 3s 49ms/step - loss: 0.2078 - accuracy: 0.9316 - val_loss: 0.1981 - val_accuracy: 0.9457\n",
      "CPU times: total: 1min 37s\n",
      "Wall time: 1min 18s\n"
     ]
    }
   ],
   "source": [
    "%%time\n",
    "history = model.fit(X_train, y_train, batch_size=256, epochs=30, validation_data=(X_test, y_test))"
   ]
  },
  {
   "cell_type": "code",
   "execution_count": 25,
   "id": "2824f6d8",
   "metadata": {},
   "outputs": [
    {
     "name": "stdout",
     "output_type": "stream",
     "text": [
      "Accuracy на тестовых данных: 94.57%\n"
     ]
    }
   ],
   "source": [
    "scores = model.evaluate(X_test, y_test, verbose=0)\n",
    "\n",
    "print(\"Accuracy на тестовых данных: %.2f%%\" % (scores[1]*100))"
   ]
  },
  {
   "cell_type": "code",
   "execution_count": 26,
   "id": "15100370",
   "metadata": {},
   "outputs": [
    {
     "data": {
      "image/png": "[encoded data removed]",
      "text/plain": [
       "<Figure size 640x480 with 1 Axes>"
      ]
     },
     "metadata": {},
     "output_type": "display_data"
    }
   ],
   "source": [
    "plt.plot(history.history['accuracy'], label='Точность на обучающем наборе')\n",
    "plt.plot(\n",
    "    history.history['val_accuracy'], label='Точность на проверочном наборе')\n",
    "plt.xlabel('Цикл обучения')\n",
    "plt.ylabel('Точность')\n",
    "plt.legend()\n",
    "plt.show()\n",
    "pass"
   ]
  },
  {
   "cell_type": "code",
   "execution_count": 29,
   "id": "3a23b1e9",
   "metadata": {},
   "outputs": [
    {
     "data": {
      "image/png": "[encoded data removed]",
      "text/plain": [
       "<Figure size 700x700 with 1 Axes>"
      ]
     },
     "metadata": {},
     "output_type": "display_data"
    }
   ],
   "source": [
    "pd.DataFrame(history.history).plot(figsize=(7, 7))\n",
    "plt.grid(True)\n",
    "plt.gca().set_ylim(0, 1)\n",
    "plt.show()"
   ]
  },
  {
   "cell_type": "markdown",
   "id": "fe7fa9ed",
   "metadata": {},
   "source": [
    "### Модель 2"
   ]
  },
  {
   "cell_type": "code",
   "execution_count": 45,
   "id": "3611ae52",
   "metadata": {},
   "outputs": [],
   "source": [
    "from keras.preprocessing.image import ImageDataGenerator\n",
    "from keras.callbacks import EarlyStopping, ReduceLROnPlateau, ModelCheckpoint\n",
    "model_checkpoint_doc_init = ModelCheckpoint(\n",
    "    'models/doc_init_model.h5', 'val_accuracy', save_best_only=True, verbose=1)\n",
    "early_stop = EarlyStopping('val_accuracy', patience=30, verbose=1)\n",
    "reduce_lr = ReduceLROnPlateau(\n",
    "    factor=0.1, patience=5, min_lr=0.00001, verbose=1)"
   ]
  },
  {
   "cell_type": "code",
   "execution_count": 46,
   "id": "1cdd79ea",
   "metadata": {},
   "outputs": [],
   "source": [
    "aug = ImageDataGenerator(rotation_range=10, \n",
    "                         width_shift_range=0.1,\n",
    "                         height_shift_range=0.1)"
   ]
  },
  {
   "cell_type": "code",
   "execution_count": 47,
   "id": "fdf2bd40",
   "metadata": {},
   "outputs": [],
   "source": [
    "from functools import partial\n",
    "\n",
    "DefaultConv2D = partial(keras.layers.Conv2D,\n",
    "                        kernel_size=3, activation='relu', padding=\"SAME\")\n",
    "\n",
    "model = keras.models.Sequential([\n",
    "    DefaultConv2D(filters=64, kernel_size=7, input_shape=[28, 28, 1]),\n",
    "    keras.layers.MaxPooling2D(pool_size=2),\n",
    "    DefaultConv2D(filters=128),\n",
    "    DefaultConv2D(filters=128),\n",
    "    keras.layers.MaxPooling2D(pool_size=2),\n",
    "    DefaultConv2D(filters=256),\n",
    "    DefaultConv2D(filters=256),\n",
    "    keras.layers.MaxPooling2D(pool_size=2),\n",
    "    keras.layers.Flatten(),\n",
    "    keras.layers.Dense(units=128, activation='relu'),\n",
    "    keras.layers.Dropout(0.5),\n",
    "    keras.layers.Dense(units=64, activation='relu'),\n",
    "    keras.layers.Dropout(0.5),\n",
    "    keras.layers.Dense(units=10, activation='softmax'),\n",
    "])"
   ]
  },
  {
   "cell_type": "code",
   "execution_count": 48,
   "id": "4ad295cd",
   "metadata": {},
   "outputs": [],
   "source": [
    "model.compile(loss=\"sparse_categorical_crossentropy\", optimizer=\"nadam\", metrics=[\"accuracy\"])"
   ]
  },
  {
   "cell_type": "code",
   "execution_count": 44,
   "id": "755d99c8",
   "metadata": {},
   "outputs": [
    {
     "ename": "ValueError",
     "evalue": "('Input data in `NumpyArrayIterator` should have rank 4. You passed an array with shape', (13106, 28, 28))",
     "output_type": "error",
     "traceback": [
      "\u001b[1;31m---------------------------------------------------------------------------\u001b[0m",
      "\u001b[1;31mValueError\u001b[0m                                Traceback (most recent call last)",
      "Cell \u001b[1;32mIn[44], line 2\u001b[0m\n\u001b[0;32m      1\u001b[0m history \u001b[38;5;241m=\u001b[39m model\u001b[38;5;241m.\u001b[39mfit_generator(\n\u001b[1;32m----> 2\u001b[0m     \u001b[43maug\u001b[49m\u001b[38;5;241;43m.\u001b[39;49m\u001b[43mflow\u001b[49m\u001b[43m(\u001b[49m\u001b[43mX_train\u001b[49m\u001b[43m,\u001b[49m\u001b[43m \u001b[49m\u001b[43my_train\u001b[49m\u001b[43m,\u001b[49m\u001b[43m \u001b[49m\u001b[43mbatch_size\u001b[49m\u001b[38;5;241;43m=\u001b[39;49m\u001b[38;5;241;43m64\u001b[39;49m\u001b[43m)\u001b[49m,\n\u001b[0;32m      3\u001b[0m     validation_data\u001b[38;5;241m=\u001b[39m[X_valid, y_valid],\n\u001b[0;32m      4\u001b[0m     epochs\u001b[38;5;241m=\u001b[39m\u001b[38;5;241m20\u001b[39m,\n\u001b[0;32m      5\u001b[0m     verbose\u001b[38;5;241m=\u001b[39m\u001b[38;5;241m1\u001b[39m,\n\u001b[0;32m      6\u001b[0m     callbacks\u001b[38;5;241m=\u001b[39m[model_checkpoint_doc_init, early_stop, reduce_lr])\n\u001b[0;32m      7\u001b[0m score \u001b[38;5;241m=\u001b[39m model\u001b[38;5;241m.\u001b[39mevaluate(X_test, y_test)\n\u001b[0;32m      8\u001b[0m X_new \u001b[38;5;241m=\u001b[39m X_test[:\u001b[38;5;241m10\u001b[39m] \u001b[38;5;66;03m# pretend we have new images\u001b[39;00m\n",
      "File \u001b[1;32m~\\anaconda3\\envs\\tensorflow\\lib\\site-packages\\keras\\preprocessing\\image.py:1547\u001b[0m, in \u001b[0;36mImageDataGenerator.flow\u001b[1;34m(self, x, y, batch_size, shuffle, sample_weight, seed, save_to_dir, save_prefix, save_format, ignore_class_split, subset)\u001b[0m\n\u001b[0;32m   1488\u001b[0m \u001b[38;5;28;01mdef\u001b[39;00m \u001b[38;5;21mflow\u001b[39m(\n\u001b[0;32m   1489\u001b[0m     \u001b[38;5;28mself\u001b[39m,\n\u001b[0;32m   1490\u001b[0m     x,\n\u001b[1;32m   (...)\u001b[0m\n\u001b[0;32m   1500\u001b[0m     subset\u001b[38;5;241m=\u001b[39m\u001b[38;5;28;01mNone\u001b[39;00m,\n\u001b[0;32m   1501\u001b[0m ):\n\u001b[0;32m   1502\u001b[0m     \u001b[38;5;124;03m\"\"\"Takes data & label arrays, generates batches of augmented data.\u001b[39;00m\n\u001b[0;32m   1503\u001b[0m \n\u001b[0;32m   1504\u001b[0m \u001b[38;5;124;03m    Args:\u001b[39;00m\n\u001b[1;32m   (...)\u001b[0m\n\u001b[0;32m   1545\u001b[0m \n\u001b[0;32m   1546\u001b[0m \u001b[38;5;124;03m    \"\"\"\u001b[39;00m\n\u001b[1;32m-> 1547\u001b[0m     \u001b[38;5;28;01mreturn\u001b[39;00m \u001b[43mNumpyArrayIterator\u001b[49m\u001b[43m(\u001b[49m\n\u001b[0;32m   1548\u001b[0m \u001b[43m        \u001b[49m\u001b[43mx\u001b[49m\u001b[43m,\u001b[49m\n\u001b[0;32m   1549\u001b[0m \u001b[43m        \u001b[49m\u001b[43my\u001b[49m\u001b[43m,\u001b[49m\n\u001b[0;32m   1550\u001b[0m \u001b[43m        \u001b[49m\u001b[38;5;28;43mself\u001b[39;49m\u001b[43m,\u001b[49m\n\u001b[0;32m   1551\u001b[0m \u001b[43m        \u001b[49m\u001b[43mbatch_size\u001b[49m\u001b[38;5;241;43m=\u001b[39;49m\u001b[43mbatch_size\u001b[49m\u001b[43m,\u001b[49m\n\u001b[0;32m   1552\u001b[0m \u001b[43m        \u001b[49m\u001b[43mshuffle\u001b[49m\u001b[38;5;241;43m=\u001b[39;49m\u001b[43mshuffle\u001b[49m\u001b[43m,\u001b[49m\n\u001b[0;32m   1553\u001b[0m \u001b[43m        \u001b[49m\u001b[43msample_weight\u001b[49m\u001b[38;5;241;43m=\u001b[39;49m\u001b[43msample_weight\u001b[49m\u001b[43m,\u001b[49m\n\u001b[0;32m   1554\u001b[0m \u001b[43m        \u001b[49m\u001b[43mseed\u001b[49m\u001b[38;5;241;43m=\u001b[39;49m\u001b[43mseed\u001b[49m\u001b[43m,\u001b[49m\n\u001b[0;32m   1555\u001b[0m \u001b[43m        \u001b[49m\u001b[43mdata_format\u001b[49m\u001b[38;5;241;43m=\u001b[39;49m\u001b[38;5;28;43mself\u001b[39;49m\u001b[38;5;241;43m.\u001b[39;49m\u001b[43mdata_format\u001b[49m\u001b[43m,\u001b[49m\n\u001b[0;32m   1556\u001b[0m \u001b[43m        \u001b[49m\u001b[43msave_to_dir\u001b[49m\u001b[38;5;241;43m=\u001b[39;49m\u001b[43msave_to_dir\u001b[49m\u001b[43m,\u001b[49m\n\u001b[0;32m   1557\u001b[0m \u001b[43m        \u001b[49m\u001b[43msave_prefix\u001b[49m\u001b[38;5;241;43m=\u001b[39;49m\u001b[43msave_prefix\u001b[49m\u001b[43m,\u001b[49m\n\u001b[0;32m   1558\u001b[0m \u001b[43m        \u001b[49m\u001b[43msave_format\u001b[49m\u001b[38;5;241;43m=\u001b[39;49m\u001b[43msave_format\u001b[49m\u001b[43m,\u001b[49m\n\u001b[0;32m   1559\u001b[0m \u001b[43m        \u001b[49m\u001b[43mignore_class_split\u001b[49m\u001b[38;5;241;43m=\u001b[39;49m\u001b[43mignore_class_split\u001b[49m\u001b[43m,\u001b[49m\n\u001b[0;32m   1560\u001b[0m \u001b[43m        \u001b[49m\u001b[43msubset\u001b[49m\u001b[38;5;241;43m=\u001b[39;49m\u001b[43msubset\u001b[49m\u001b[43m,\u001b[49m\n\u001b[0;32m   1561\u001b[0m \u001b[43m        \u001b[49m\u001b[43mdtype\u001b[49m\u001b[38;5;241;43m=\u001b[39;49m\u001b[38;5;28;43mself\u001b[39;49m\u001b[38;5;241;43m.\u001b[39;49m\u001b[43mdtype\u001b[49m\u001b[43m,\u001b[49m\n\u001b[0;32m   1562\u001b[0m \u001b[43m    \u001b[49m\u001b[43m)\u001b[49m\n",
      "File \u001b[1;32m~\\anaconda3\\envs\\tensorflow\\lib\\site-packages\\keras\\preprocessing\\image.py:758\u001b[0m, in \u001b[0;36mNumpyArrayIterator.__init__\u001b[1;34m(self, x, y, image_data_generator, batch_size, shuffle, sample_weight, seed, data_format, save_to_dir, save_prefix, save_format, subset, ignore_class_split, dtype)\u001b[0m\n\u001b[0;32m    756\u001b[0m \u001b[38;5;28mself\u001b[39m\u001b[38;5;241m.\u001b[39mx_misc \u001b[38;5;241m=\u001b[39m x_misc\n\u001b[0;32m    757\u001b[0m \u001b[38;5;28;01mif\u001b[39;00m \u001b[38;5;28mself\u001b[39m\u001b[38;5;241m.\u001b[39mx\u001b[38;5;241m.\u001b[39mndim \u001b[38;5;241m!=\u001b[39m \u001b[38;5;241m4\u001b[39m:\n\u001b[1;32m--> 758\u001b[0m     \u001b[38;5;28;01mraise\u001b[39;00m \u001b[38;5;167;01mValueError\u001b[39;00m(\n\u001b[0;32m    759\u001b[0m         \u001b[38;5;124m\"\u001b[39m\u001b[38;5;124mInput data in `NumpyArrayIterator` \u001b[39m\u001b[38;5;124m\"\u001b[39m\n\u001b[0;32m    760\u001b[0m         \u001b[38;5;124m\"\u001b[39m\u001b[38;5;124mshould have rank 4. You passed an array \u001b[39m\u001b[38;5;124m\"\u001b[39m\n\u001b[0;32m    761\u001b[0m         \u001b[38;5;124m\"\u001b[39m\u001b[38;5;124mwith shape\u001b[39m\u001b[38;5;124m\"\u001b[39m,\n\u001b[0;32m    762\u001b[0m         \u001b[38;5;28mself\u001b[39m\u001b[38;5;241m.\u001b[39mx\u001b[38;5;241m.\u001b[39mshape,\n\u001b[0;32m    763\u001b[0m     )\n\u001b[0;32m    764\u001b[0m channels_axis \u001b[38;5;241m=\u001b[39m \u001b[38;5;241m3\u001b[39m \u001b[38;5;28;01mif\u001b[39;00m data_format \u001b[38;5;241m==\u001b[39m \u001b[38;5;124m\"\u001b[39m\u001b[38;5;124mchannels_last\u001b[39m\u001b[38;5;124m\"\u001b[39m \u001b[38;5;28;01melse\u001b[39;00m \u001b[38;5;241m1\u001b[39m\n\u001b[0;32m    765\u001b[0m \u001b[38;5;28;01mif\u001b[39;00m \u001b[38;5;28mself\u001b[39m\u001b[38;5;241m.\u001b[39mx\u001b[38;5;241m.\u001b[39mshape[channels_axis] \u001b[38;5;129;01mnot\u001b[39;00m \u001b[38;5;129;01min\u001b[39;00m {\u001b[38;5;241m1\u001b[39m, \u001b[38;5;241m3\u001b[39m, \u001b[38;5;241m4\u001b[39m}:\n",
      "\u001b[1;31mValueError\u001b[0m: ('Input data in `NumpyArrayIterator` should have rank 4. You passed an array with shape', (13106, 28, 28))"
     ]
    }
   ],
   "source": [
    "history = model.fit_generator(\n",
    "    aug.flow(X_train, y_train, batch_size=64),\n",
    "    validation_data=[X_valid, y_valid],\n",
    "    epochs=20,\n",
    "    verbose=1,\n",
    "    callbacks=[model_checkpoint_doc_init, early_stop, reduce_lr])\n",
    "score = model.evaluate(X_test, y_test)\n",
    "X_new = X_test[:10] # pretend we have new images\n",
    "y_pred = model.predict(X_new)"
   ]
  },
  {
   "cell_type": "code",
   "execution_count": null,
   "id": "27aea9b4",
   "metadata": {},
   "outputs": [],
   "source": []
  }
 ],
 "metadata": {
  "kernelspec": {
   "display_name": "Python 3 (ipykernel)",
   "language": "python",
   "name": "python3"
  },
  "language_info": {
   "codemirror_mode": {
    "name": "ipython",
    "version": 3
   },
   "file_extension": ".py",
   "mimetype": "text/x-python",
   "name": "python",
   "nbconvert_exporter": "python",
   "pygments_lexer": "ipython3",
   "version": "3.9.16"
  }
 },
 "nbformat": 4,
 "nbformat_minor": 5
}
