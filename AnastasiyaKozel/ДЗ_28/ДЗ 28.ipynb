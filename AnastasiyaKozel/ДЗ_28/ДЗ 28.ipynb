{
 "cells": [
  {
   "cell_type": "markdown",
   "id": "f224adb7",
   "metadata": {},
   "source": [
    "## Домашнее задание 27\n",
    "### Козел А.Г. 22.02.2023\n",
    "https://data.vision.ee.ethz.ch/cvl/rrothe/imdb-wiki/ \n",
    "* ДЗ - оценить возраст человека по изображению. В качестве датасета возьмите датасет только лиц. \n",
    "Предположим что сами лица вы находить и извлекать уже умеете. Можете сделать это как продолжение решения по поиску лиц из предыдущих работ.\n",
    "https://www.google.com/amp/s/www.geeksforgeeks.org/age-detection-using-deep-learning-in-opencv/amp/ пример того как это может работать.  \n",
    "В качестве фьючеэкстрактора берите любую современную нейронную сеть. Задачу можно решать как задачу регрессии или классификации.  14 14-18 \n",
    "Если есть время можете попробовать 2 способа.  Попробуйте разблокировать часть слоев после обучения и дообучить модель.\n",
    "\n",
    "\n",
    "\n",
    " \n",
    "0-14 14-18 18-21 21-\n",
    "\n",
    "\n",
    "Указание -  что бы решить задачу регресси вам нужно использовать flow_from_dataframe\n",
    "Указание - для начала вам нужно создать датафрейм в котором будет относительный путь к изображению и целевая метка, потом использовать этот датафрейм при обучении\n",
    "\n",
    "\t"
   ]
  },
  {
   "cell_type": "code",
   "execution_count": 1,
   "id": "adf0e50e",
   "metadata": {},
   "outputs": [],
   "source": [
    "import sys\n",
    "import sklearn\n",
    "import tensorflow as tf\n",
    "import numpy as np\n",
    "import os\n",
    "import random\n",
    "%matplotlib inline\n",
    "import matplotlib as mpl\n",
    "import matplotlib.pyplot as plt\n",
    "from PIL import Image\n",
    "import cv2\n",
    "import warnings\n",
    "warnings.filterwarnings(action=\"ignore\", message=\"^internal gelsd\")\n",
    "from imutils import face_utils\n",
    "import imutils\n",
    "import dlib\n",
    "import pandas as pd\n",
    "from sklearn import metrics\n",
    "from tensorflow import keras\n",
    "from sklearn.preprocessing import StandardScaler, LabelEncoder\n",
    "from sklearn.model_selection import train_test_split\n",
    "from tensorflow.keras.datasets import mnist\n",
    "from tensorflow.python.keras.models import Sequential\n",
    "\n",
    "from tensorflow.keras.layers import Dense, Conv2D, MaxPooling2D, Flatten, CategoryEncoding, Dropout\n"
   ]
  },
  {
   "cell_type": "code",
   "execution_count": 2,
   "id": "558b8627",
   "metadata": {},
   "outputs": [
    {
     "data": {
      "text/plain": [
       "[PhysicalDevice(name='/physical_device:GPU:0', device_type='GPU')]"
      ]
     },
     "execution_count": 2,
     "metadata": {},
     "output_type": "execute_result"
    }
   ],
   "source": [
    "tf.__version__\n",
    "tf.config.list_physical_devices('GPU')"
   ]
  },
  {
   "cell_type": "code",
   "execution_count": 3,
   "id": "ee3710a5",
   "metadata": {},
   "outputs": [],
   "source": [
    "data = 'c:\\\\Users\\\\37533\\\\Desktop\\\\jupyter\\\\ДЗ_28\\\\data_'"
   ]
  },
  {
   "cell_type": "code",
   "execution_count": 49,
   "id": "7ae616d7",
   "metadata": {},
   "outputs": [],
   "source": [
    "import face_recognition\n",
    "from PIL import Image, ImageDraw\n",
    "import matplotlib.pyplot as plt\n",
    "from tqdm import tqdm"
   ]
  },
  {
   "cell_type": "code",
   "execution_count": 6,
   "id": "d0e92f26",
   "metadata": {},
   "outputs": [
    {
     "name": "stderr",
     "output_type": "stream",
     "text": [
      "100%|██████████| 100/100 [2:13:46<00:00, 80.26s/it]  \n"
     ]
    },
    {
     "name": "stdout",
     "output_type": "stream",
     "text": [
      "Изображения с лицами 38870\n",
      "Изображения без лиц 23458\n",
      "Нечитаемые изображения 0\n"
     ]
    }
   ],
   "source": [
    "face = 0 # счетчик изображений с лицами\n",
    "no_face = 0 #счетчик изображений без лиц\n",
    "no_read = 0 # счетчик нечитаемых изображений\n",
    "\n",
    "df = pd.DataFrame(columns=['link', 'age'])\n",
    "for folder in tqdm(os.listdir('./data_')):\n",
    "    for file in os.listdir(os.path.join(data, folder)):\n",
    "        try:\n",
    "            link = os.path.join(data, folder, file)\n",
    "            img = Image.open(link)  # загрузить изображение\n",
    "            image = face_recognition.load_image_file(os.path.join(data, folder, file))\n",
    "            if len(face_recognition.face_landmarks(image)) == 1:\n",
    "                face +=1\n",
    "                #определяем возраст\n",
    "                name = file[:-4] #убираем расширение файла из имени\n",
    "                age_end = name.split('_')[2] # делаем сплит по нижнему подчеркиванию и выбираем последнюю дату\n",
    "                age_start=str(name.split('_')[1]).split('-')[0] # делаем сплит, выбираем первую дату и далаем сплит по дефису, \n",
    "                                                            # выбираем год.\n",
    "                age_fin = int(age_end)-int(age_start) #Вычисляем возраст\n",
    "            \n",
    "                if age_fin>100 or age_fin<0: # Если возраст больше 100 или меньше 0, то выкидываем из набора\n",
    "                    continue\n",
    "             \n",
    "            else:\n",
    "                no_face +=1\n",
    "            #формируем временный датафрейм\n",
    "            dat = pd.DataFrame({\"link\": [link],\n",
    "                                \"age\": [age_fin]})\n",
    "               #Делаем конкатенацию с основным датафреймом.\n",
    "            df = pd.concat([df,dat])\n",
    "            \n",
    "        except:\n",
    "            no_read+=1\n",
    "            None \n",
    "        \n",
    "print(f'Изображения с лицами {face}')\n",
    "print(f'Изображения без лиц {no_face}')\n",
    "print(f'Нечитаемые изображения {no_read}')\n",
    "\n",
    "df.to_csv('data_cleaned.csv') #Сохраним в файл полученный Dataframe на случай перезагрузки, чтобы не чистить второй раз )))"
   ]
  },
  {
   "cell_type": "code",
   "execution_count": 10,
   "id": "4fdd1298",
   "metadata": {},
   "outputs": [
    {
     "name": "stderr",
     "output_type": "stream",
     "text": [
      "100%|██████████| 100/100 [50:58<00:00, 30.59s/it]"
     ]
    },
    {
     "name": "stdout",
     "output_type": "stream",
     "text": [
      "Изображения с лицами 38870\n",
      "Изображения без лиц 23458\n"
     ]
    },
    {
     "name": "stderr",
     "output_type": "stream",
     "text": [
      "\n"
     ]
    }
   ],
   "source": [
    "face1 = 0 # счетчик изображений с лицами\n",
    "no_face1 = 0 #счетчик изображений без лиц\n",
    "\n",
    "\n",
    "df1 = pd.DataFrame(columns=['link', 'age'])\n",
    "for folder in tqdm(os.listdir('./data_')):   \n",
    "    for file in os.listdir(os.path.join(data, folder)):\n",
    "        link = os.path.join(data, folder, file) \n",
    "        img = Image.open(link)  # загрузить изображение\n",
    "        image = face_recognition.load_image_file(os.path.join(data, folder, file))\n",
    "        if len(face_recognition.face_landmarks(image)) == 1:\n",
    "            face1 +=1 #если 1 лицо найдено, добавляем +1\n",
    "                #определяем возраст\n",
    "            name = file[:-4] #убираем расширение файла из имени\n",
    "            age_end = name.split('_')[2] # делаем сплит по нижнему подчеркиванию и выбираем последнюю дату\n",
    "            age_start=str(name.split('_')[1]).split('-')[0] # делаем сплит, выбираем первую дату и далаем сплит по дефису, \n",
    "                                                            # выбираем год.\n",
    "            age_fin = int(age_end)-int(age_start) #Вычисляем возраст\n",
    "            \n",
    "            if age_fin>100 or age_fin<0:# Если возраст больше 100 или меньше 0, то выкидываем из набора\n",
    "                continue\n",
    "            dat = pd.DataFrame({\"link\": [link],\n",
    "                             \"age\": [age_fin]})\n",
    "               #Делаем конкатенацию с основным датафреймом.\n",
    "            df1 = pd.concat([df1,dat])\n",
    "             \n",
    "        else:\n",
    "            no_face1 +=1\n",
    "            #формируем временный датафрейм\n",
    "        \n",
    "        \n",
    "print(f'Изображения с лицами {face1}')\n",
    "print(f'Изображения без лиц {no_face1}')\n",
    "\n",
    "\n",
    "df1.to_csv('data_face.csv') #Сохраним в файл полученный Dataframe "
   ]
  },
  {
   "cell_type": "code",
   "execution_count": null,
   "id": "e702f5c3",
   "metadata": {},
   "outputs": [],
   "source": []
  },
  {
   "cell_type": "code",
   "execution_count": 12,
   "id": "b90d2930",
   "metadata": {},
   "outputs": [
    {
     "data": {
      "text/html": [
       "<div>\n",
       "<style scoped>\n",
       "    .dataframe tbody tr th:only-of-type {\n",
       "        vertical-align: middle;\n",
       "    }\n",
       "\n",
       "    .dataframe tbody tr th {\n",
       "        vertical-align: top;\n",
       "    }\n",
       "\n",
       "    .dataframe thead th {\n",
       "        text-align: right;\n",
       "    }\n",
       "</style>\n",
       "<table border=\"1\" class=\"dataframe\">\n",
       "  <thead>\n",
       "    <tr style=\"text-align: right;\">\n",
       "      <th></th>\n",
       "      <th>link</th>\n",
       "      <th>age</th>\n",
       "    </tr>\n",
       "  </thead>\n",
       "  <tbody>\n",
       "    <tr>\n",
       "      <th>0</th>\n",
       "      <td>c:\\Users\\37533\\Desktop\\jupyter\\ДЗ_28\\data_\\00\\...</td>\n",
       "      <td>67</td>\n",
       "    </tr>\n",
       "    <tr>\n",
       "      <th>0</th>\n",
       "      <td>c:\\Users\\37533\\Desktop\\jupyter\\ДЗ_28\\data_\\00\\...</td>\n",
       "      <td>27</td>\n",
       "    </tr>\n",
       "    <tr>\n",
       "      <th>0</th>\n",
       "      <td>c:\\Users\\37533\\Desktop\\jupyter\\ДЗ_28\\data_\\00\\...</td>\n",
       "      <td>46</td>\n",
       "    </tr>\n",
       "    <tr>\n",
       "      <th>0</th>\n",
       "      <td>c:\\Users\\37533\\Desktop\\jupyter\\ДЗ_28\\data_\\00\\...</td>\n",
       "      <td>43</td>\n",
       "    </tr>\n",
       "    <tr>\n",
       "      <th>0</th>\n",
       "      <td>c:\\Users\\37533\\Desktop\\jupyter\\ДЗ_28\\data_\\00\\...</td>\n",
       "      <td>48</td>\n",
       "    </tr>\n",
       "  </tbody>\n",
       "</table>\n",
       "</div>"
      ],
      "text/plain": [
       "                                                link age\n",
       "0  c:\\Users\\37533\\Desktop\\jupyter\\ДЗ_28\\data_\\00\\...  67\n",
       "0  c:\\Users\\37533\\Desktop\\jupyter\\ДЗ_28\\data_\\00\\...  27\n",
       "0  c:\\Users\\37533\\Desktop\\jupyter\\ДЗ_28\\data_\\00\\...  46\n",
       "0  c:\\Users\\37533\\Desktop\\jupyter\\ДЗ_28\\data_\\00\\...  43\n",
       "0  c:\\Users\\37533\\Desktop\\jupyter\\ДЗ_28\\data_\\00\\...  48"
      ]
     },
     "execution_count": 12,
     "metadata": {},
     "output_type": "execute_result"
    }
   ],
   "source": [
    "df1.head(5)"
   ]
  },
  {
   "cell_type": "code",
   "execution_count": 33,
   "id": "970496ae",
   "metadata": {},
   "outputs": [
    {
     "data": {
      "text/plain": [
       "link    38820\n",
       "age       101\n",
       "dtype: int64"
      ]
     },
     "execution_count": 33,
     "metadata": {},
     "output_type": "execute_result"
    }
   ],
   "source": [
    "df1.nunique()"
   ]
  },
  {
   "cell_type": "code",
   "execution_count": 41,
   "id": "dcba7e7a",
   "metadata": {},
   "outputs": [],
   "source": [
    "df1['age']=df1['age'].astype(int)"
   ]
  },
  {
   "cell_type": "code",
   "execution_count": 42,
   "id": "56dead9e",
   "metadata": {},
   "outputs": [
    {
     "name": "stdout",
     "output_type": "stream",
     "text": [
      "<class 'pandas.core.frame.DataFrame'>\n",
      "Int64Index: 38820 entries, 0 to 0\n",
      "Data columns (total 2 columns):\n",
      " #   Column  Non-Null Count  Dtype \n",
      "---  ------  --------------  ----- \n",
      " 0   link    38820 non-null  object\n",
      " 1   age     38820 non-null  int32 \n",
      "dtypes: int32(1), object(1)\n",
      "memory usage: 1.7+ MB\n"
     ]
    }
   ],
   "source": [
    "df1.info()"
   ]
  },
  {
   "cell_type": "code",
   "execution_count": 44,
   "id": "651f7d1d",
   "metadata": {},
   "outputs": [
    {
     "data": {
      "text/plain": [
       "26    1612\n",
       "24    1561\n",
       "27    1519\n",
       "23    1488\n",
       "25    1478\n",
       "      ... \n",
       "3        3\n",
       "98       3\n",
       "5        1\n",
       "2        1\n",
       "4        1\n",
       "Name: age, Length: 101, dtype: int64"
      ]
     },
     "execution_count": 44,
     "metadata": {},
     "output_type": "execute_result"
    }
   ],
   "source": [
    "df1['age'].value_counts()"
   ]
  },
  {
   "cell_type": "code",
   "execution_count": 46,
   "id": "64ee653c",
   "metadata": {},
   "outputs": [
    {
     "name": "stdout",
     "output_type": "stream",
     "text": [
      "(38820, 2)\n"
     ]
    },
    {
     "data": {
      "text/plain": [
       "count    38820.000000\n",
       "mean        38.340752\n",
       "std         16.608884\n",
       "min          0.000000\n",
       "25%         25.000000\n",
       "50%         33.000000\n",
       "75%         49.000000\n",
       "max        100.000000\n",
       "Name: age, dtype: float64"
      ]
     },
     "execution_count": 46,
     "metadata": {},
     "output_type": "execute_result"
    }
   ],
   "source": [
    "print(df1.shape)\n",
    "df1['age'].describe(include = \"all\").T"
   ]
  },
  {
   "cell_type": "code",
   "execution_count": 52,
   "id": "a6c6c5a0",
   "metadata": {},
   "outputs": [],
   "source": [
    "\n",
    "data = pd.read_csv ('data_face.csv')"
   ]
  },
  {
   "cell_type": "code",
   "execution_count": 53,
   "id": "201e457d",
   "metadata": {},
   "outputs": [
    {
     "ename": "AttributeError",
     "evalue": "'int' object has no attribute 'read'",
     "output_type": "error",
     "traceback": [
      "\u001b[1;31m---------------------------------------------------------------------------\u001b[0m",
      "\u001b[1;31mAttributeError\u001b[0m                            Traceback (most recent call last)",
      "Cell \u001b[1;32mIn[53], line 6\u001b[0m\n\u001b[0;32m      4\u001b[0m plt\u001b[38;5;241m.\u001b[39msubplot (\u001b[38;5;241m5\u001b[39m,\u001b[38;5;241m5\u001b[39m,idx[\u001b[38;5;241m0\u001b[39m]\u001b[38;5;241m+\u001b[39m\u001b[38;5;241m1\u001b[39m)\n\u001b[0;32m      5\u001b[0m link \u001b[38;5;241m=\u001b[39m df\u001b[38;5;241m.\u001b[39miloc[idx[\u001b[38;5;241m1\u001b[39m]]\n\u001b[1;32m----> 6\u001b[0m image \u001b[38;5;241m=\u001b[39m \u001b[43mplt\u001b[49m\u001b[38;5;241;43m.\u001b[39;49m\u001b[43mimread\u001b[49m\u001b[43m(\u001b[49m\u001b[43mlink\u001b[49m\u001b[43m[\u001b[49m\u001b[38;5;241;43m1\u001b[39;49m\u001b[43m]\u001b[49m\u001b[43m)\u001b[49m\n\u001b[0;32m      7\u001b[0m title \u001b[38;5;241m=\u001b[39m \u001b[38;5;124m'\u001b[39m\u001b[38;5;124mAge - \u001b[39m\u001b[38;5;124m'\u001b[39m \u001b[38;5;241m+\u001b[39m \u001b[38;5;28mstr\u001b[39m(link[\u001b[38;5;241m2\u001b[39m])\n\u001b[0;32m      8\u001b[0m plt\u001b[38;5;241m.\u001b[39mtitle (title)\n",
      "File \u001b[1;32m~\\anaconda3\\envs\\tensorflow\\lib\\site-packages\\matplotlib\\pyplot.py:2131\u001b[0m, in \u001b[0;36mimread\u001b[1;34m(fname, format)\u001b[0m\n\u001b[0;32m   2129\u001b[0m \u001b[38;5;129m@_copy_docstring_and_deprecators\u001b[39m(matplotlib\u001b[38;5;241m.\u001b[39mimage\u001b[38;5;241m.\u001b[39mimread)\n\u001b[0;32m   2130\u001b[0m \u001b[38;5;28;01mdef\u001b[39;00m \u001b[38;5;21mimread\u001b[39m(fname, \u001b[38;5;28mformat\u001b[39m\u001b[38;5;241m=\u001b[39m\u001b[38;5;28;01mNone\u001b[39;00m):\n\u001b[1;32m-> 2131\u001b[0m     \u001b[38;5;28;01mreturn\u001b[39;00m \u001b[43mmatplotlib\u001b[49m\u001b[38;5;241;43m.\u001b[39;49m\u001b[43mimage\u001b[49m\u001b[38;5;241;43m.\u001b[39;49m\u001b[43mimread\u001b[49m\u001b[43m(\u001b[49m\u001b[43mfname\u001b[49m\u001b[43m,\u001b[49m\u001b[43m \u001b[49m\u001b[38;5;28;43mformat\u001b[39;49m\u001b[43m)\u001b[49m\n",
      "File \u001b[1;32m~\\anaconda3\\envs\\tensorflow\\lib\\site-packages\\matplotlib\\image.py:1541\u001b[0m, in \u001b[0;36mimread\u001b[1;34m(fname, format)\u001b[0m\n\u001b[0;32m   1534\u001b[0m \u001b[38;5;28;01mif\u001b[39;00m \u001b[38;5;28misinstance\u001b[39m(fname, \u001b[38;5;28mstr\u001b[39m) \u001b[38;5;129;01mand\u001b[39;00m \u001b[38;5;28mlen\u001b[39m(parse\u001b[38;5;241m.\u001b[39murlparse(fname)\u001b[38;5;241m.\u001b[39mscheme) \u001b[38;5;241m>\u001b[39m \u001b[38;5;241m1\u001b[39m:\n\u001b[0;32m   1535\u001b[0m     \u001b[38;5;66;03m# Pillow doesn't handle URLs directly.\u001b[39;00m\n\u001b[0;32m   1536\u001b[0m     \u001b[38;5;28;01mraise\u001b[39;00m \u001b[38;5;167;01mValueError\u001b[39;00m(\n\u001b[0;32m   1537\u001b[0m         \u001b[38;5;124m\"\u001b[39m\u001b[38;5;124mPlease open the URL for reading and pass the \u001b[39m\u001b[38;5;124m\"\u001b[39m\n\u001b[0;32m   1538\u001b[0m         \u001b[38;5;124m\"\u001b[39m\u001b[38;5;124mresult to Pillow, e.g. with \u001b[39m\u001b[38;5;124m\"\u001b[39m\n\u001b[0;32m   1539\u001b[0m         \u001b[38;5;124m\"\u001b[39m\u001b[38;5;124m``np.array(PIL.Image.open(urllib.request.urlopen(url)))``.\u001b[39m\u001b[38;5;124m\"\u001b[39m\n\u001b[0;32m   1540\u001b[0m         )\n\u001b[1;32m-> 1541\u001b[0m \u001b[38;5;28;01mwith\u001b[39;00m \u001b[43mimg_open\u001b[49m\u001b[43m(\u001b[49m\u001b[43mfname\u001b[49m\u001b[43m)\u001b[49m \u001b[38;5;28;01mas\u001b[39;00m image:\n\u001b[0;32m   1542\u001b[0m     \u001b[38;5;28;01mreturn\u001b[39;00m (_pil_png_to_float_array(image)\n\u001b[0;32m   1543\u001b[0m             \u001b[38;5;28;01mif\u001b[39;00m \u001b[38;5;28misinstance\u001b[39m(image, PIL\u001b[38;5;241m.\u001b[39mPngImagePlugin\u001b[38;5;241m.\u001b[39mPngImageFile) \u001b[38;5;28;01melse\u001b[39;00m\n\u001b[0;32m   1544\u001b[0m             pil_to_array(image))\n",
      "File \u001b[1;32m~\\anaconda3\\envs\\tensorflow\\lib\\site-packages\\PIL\\ImageFile.py:116\u001b[0m, in \u001b[0;36mImageFile.__init__\u001b[1;34m(self, fp, filename)\u001b[0m\n\u001b[0;32m    114\u001b[0m \u001b[38;5;28;01mtry\u001b[39;00m:\n\u001b[0;32m    115\u001b[0m     \u001b[38;5;28;01mtry\u001b[39;00m:\n\u001b[1;32m--> 116\u001b[0m         \u001b[38;5;28;43mself\u001b[39;49m\u001b[38;5;241;43m.\u001b[39;49m\u001b[43m_open\u001b[49m\u001b[43m(\u001b[49m\u001b[43m)\u001b[49m\n\u001b[0;32m    117\u001b[0m     \u001b[38;5;28;01mexcept\u001b[39;00m (\n\u001b[0;32m    118\u001b[0m         \u001b[38;5;167;01mIndexError\u001b[39;00m,  \u001b[38;5;66;03m# end of data\u001b[39;00m\n\u001b[0;32m    119\u001b[0m         \u001b[38;5;167;01mTypeError\u001b[39;00m,  \u001b[38;5;66;03m# end of data (ord)\u001b[39;00m\n\u001b[1;32m   (...)\u001b[0m\n\u001b[0;32m    122\u001b[0m         struct\u001b[38;5;241m.\u001b[39merror,\n\u001b[0;32m    123\u001b[0m     ) \u001b[38;5;28;01mas\u001b[39;00m v:\n\u001b[0;32m    124\u001b[0m         \u001b[38;5;28;01mraise\u001b[39;00m \u001b[38;5;167;01mSyntaxError\u001b[39;00m(v) \u001b[38;5;28;01mfrom\u001b[39;00m \u001b[38;5;21;01mv\u001b[39;00m\n",
      "File \u001b[1;32m~\\anaconda3\\envs\\tensorflow\\lib\\site-packages\\PIL\\PngImagePlugin.py:715\u001b[0m, in \u001b[0;36mPngImageFile._open\u001b[1;34m(self)\u001b[0m\n\u001b[0;32m    713\u001b[0m \u001b[38;5;28;01mdef\u001b[39;00m \u001b[38;5;21m_open\u001b[39m(\u001b[38;5;28mself\u001b[39m):\n\u001b[1;32m--> 715\u001b[0m     \u001b[38;5;28;01mif\u001b[39;00m \u001b[38;5;129;01mnot\u001b[39;00m _accept(\u001b[38;5;28;43mself\u001b[39;49m\u001b[38;5;241;43m.\u001b[39;49m\u001b[43mfp\u001b[49m\u001b[38;5;241;43m.\u001b[39;49m\u001b[43mread\u001b[49m(\u001b[38;5;241m8\u001b[39m)):\n\u001b[0;32m    716\u001b[0m         \u001b[38;5;28;01mraise\u001b[39;00m \u001b[38;5;167;01mSyntaxError\u001b[39;00m(\u001b[38;5;124m\"\u001b[39m\u001b[38;5;124mnot a PNG file\u001b[39m\u001b[38;5;124m\"\u001b[39m)\n\u001b[0;32m    717\u001b[0m     \u001b[38;5;28mself\u001b[39m\u001b[38;5;241m.\u001b[39m_fp \u001b[38;5;241m=\u001b[39m \u001b[38;5;28mself\u001b[39m\u001b[38;5;241m.\u001b[39mfp\n",
      "\u001b[1;31mAttributeError\u001b[0m: 'int' object has no attribute 'read'"
     ]
    },
    {
     "data": {
      "image/png": "[encoded data removed]",
      "text/plain": [
       "<Figure size 1000x1200 with 1 Axes>"
      ]
     },
     "metadata": {},
     "output_type": "display_data"
    }
   ],
   "source": [
    "idx = np.random.randint (0,len(data),25)\n",
    "plt.figure(figsize=(10,12))\n",
    "for idx in enumerate(idx):\n",
    "    plt.subplot (5,5,idx[0]+1)\n",
    "    link = df.iloc[idx[1]]\n",
    "    image = plt.imread(link[1])\n",
    "    title = 'Age - ' + str(link[2])\n",
    "    plt.title (title)\n",
    "    plt.imshow(image, cmap='gray');\n",
    "    "
   ]
  },
  {
   "cell_type": "code",
   "execution_count": null,
   "id": "a4e843d2",
   "metadata": {},
   "outputs": [],
   "source": []
  },
  {
   "cell_type": "code",
   "execution_count": null,
   "id": "a44691ae",
   "metadata": {},
   "outputs": [],
   "source": []
  }
 ],
 "metadata": {
  "kernelspec": {
   "display_name": "Python 3 (ipykernel)",
   "language": "python",
   "name": "python3"
  },
  "language_info": {
   "codemirror_mode": {
    "name": "ipython",
    "version": 3
   },
   "file_extension": ".py",
   "mimetype": "text/x-python",
   "name": "python",
   "nbconvert_exporter": "python",
   "pygments_lexer": "ipython3",
   "version": "3.9.16"
  }
 },
 "nbformat": 4,
 "nbformat_minor": 5
}
