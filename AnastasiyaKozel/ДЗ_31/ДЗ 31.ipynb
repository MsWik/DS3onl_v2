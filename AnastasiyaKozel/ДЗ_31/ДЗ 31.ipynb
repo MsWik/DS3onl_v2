{
 "cells": [
  {
   "cell_type": "markdown",
   "id": "10240dde",
   "metadata": {},
   "source": [
    "## Домашнее задание 26\n",
    "### Козел А.Г. 22.0.2023\n",
    "Решить задачу просрочки кредита используя фреймворк torch выполнить прогноз просрочки кредита заемщиком. Сравнить результаты прогноза просрочки кредита заемщиком.\n",
    "\n"
   ]
  },
  {
   "cell_type": "code",
   "execution_count": 72,
   "id": "fce16dba",
   "metadata": {},
   "outputs": [],
   "source": [
    "import sys\n",
    "import sklearn\n",
    "\n",
    "import numpy as np\n",
    "import os\n",
    "import pandas as pd\n",
    "%matplotlib inline\n",
    "import matplotlib as mpl\n",
    "import matplotlib.pyplot as plt\n",
    "from sklearn import metrics\n",
    "from sklearn.preprocessing import StandardScaler\n",
    "from sklearn.model_selection import train_test_split\n",
    "from sklearn import datasets\n",
    "\n",
    "\n",
    "import warnings\n",
    "warnings.filterwarnings(action=\"ignore\", message=\"^internal gelsd\")"
   ]
  },
  {
   "cell_type": "code",
   "execution_count": null,
   "id": "275f648a",
   "metadata": {},
   "outputs": [],
   "source": [
    "import tensorflow as tf\n",
    "#assert tf.__version__ >= \"2.0\"\n",
    "from tensorflow.keras.datasets import mnist\n",
    "from tensorflow.python.keras.models import Sequential\n",
    "from tensorflow.python.keras.layers import Dense\n",
    "#from tensorflow.python.keras import utils"
   ]
  },
  {
   "cell_type": "markdown",
   "id": "02bbc0b9",
   "metadata": {},
   "source": [
    "### Описание набора данных\n",
    "\n",
    "Данные представляют собой исторические данные по 251503 заемщикам (https://www.kaggle.com/c/GiveMeSomeCredit/data ). Задача является бинарной классификацией. Цель - предсказать будет ли тот или иной заемщик испытывать финансовые трудности в ближайшие 2 года, т.е. будет ли просрочка по займу. Выборка разделена на тренировочную и тестовую ( 150000 в тренировочной части, 101503 в тестовой).\n",
    "\n",
    "Данная решаемая задача будет ценна как кредиторам, так и заемщикам для оценки способности вернуть долг вовремя.\n",
    "\n",
    "### Описание признаков\n",
    "\n",
    "* 1 - __SeriousDlqin2yrs__ - будет ли просрочка более 90 дней в ближайшие 2 года (целевая метка) (Да/Нет)\n",
    "* 2 - __RevolvingUtilizationOfUnsecuredLines__ - общий баланс по кредитным картам и кредитным линиям, за исключением задолженностей по недвижимости задолженности по взносам, деленные на сумму кредитных лимитов (проценты)\n",
    "* 3 - __age__ - Возраст заемщика (в годах)\n",
    "* 4 - __NumberOfTime30-59DaysPastDueNotWorse__ - количество просрочек в 30-59 дней (Целое)\n",
    "* 5 - __DebtRatio__ - коэффициент задолженности, т.е. сумма ежемесячных платежей по долгам, алиментов и расходов на проживание, деленная на месячный доналоговый доход (проценты)\n",
    "* 6 - __Monthly Income__ - месячный доход (число с плавающей точкой)\n",
    "* 7 - __NumberOfOpenCreditLinesAndLoans__ - количество открытых кредитов и кредитных линий (Целое)\n",
    "* 8 - __NumberOfTimes90DaysLate__ - количество просрочек более 90 дней (Целое)\n",
    "* 9 - __NumberRealEstateLoansOrLines__ - количество ипотечных кредитов и кредитов на недвижимость, включая кредитные линии домашнего капитала (Целое)\n",
    "* 10 - __NumberOfTime60-89DaysPastDueNotWorse__ - количество просрочек в 60-89 дней за последние 2 года (Целое)\n",
    "* 11 - __NumberOfDependents__ - количество иждивенцев в семье (исключая самих заемщиков) (Целое)"
   ]
  },
  {
   "cell_type": "code",
   "execution_count": 6,
   "id": "c56a8dc6",
   "metadata": {},
   "outputs": [],
   "source": [
    "df = pd.read_csv('cs-training.csv', index_col=0)\n"
   ]
  },
  {
   "cell_type": "code",
   "execution_count": 7,
   "id": "d74b02bb",
   "metadata": {},
   "outputs": [
    {
     "name": "stdout",
     "output_type": "stream",
     "text": [
      "(150000, 11)\n"
     ]
    },
    {
     "data": {
      "text/html": [
       "<div>\n",
       "<style scoped>\n",
       "    .dataframe tbody tr th:only-of-type {\n",
       "        vertical-align: middle;\n",
       "    }\n",
       "\n",
       "    .dataframe tbody tr th {\n",
       "        vertical-align: top;\n",
       "    }\n",
       "\n",
       "    .dataframe thead th {\n",
       "        text-align: right;\n",
       "    }\n",
       "</style>\n",
       "<table border=\"1\" class=\"dataframe\">\n",
       "  <thead>\n",
       "    <tr style=\"text-align: right;\">\n",
       "      <th></th>\n",
       "      <th>count</th>\n",
       "      <th>mean</th>\n",
       "      <th>std</th>\n",
       "      <th>min</th>\n",
       "      <th>25%</th>\n",
       "      <th>50%</th>\n",
       "      <th>75%</th>\n",
       "      <th>max</th>\n",
       "    </tr>\n",
       "  </thead>\n",
       "  <tbody>\n",
       "    <tr>\n",
       "      <th>SeriousDlqin2yrs</th>\n",
       "      <td>150000.0</td>\n",
       "      <td>0.066840</td>\n",
       "      <td>0.249746</td>\n",
       "      <td>0.0</td>\n",
       "      <td>0.000000</td>\n",
       "      <td>0.000000</td>\n",
       "      <td>0.000000</td>\n",
       "      <td>1.0</td>\n",
       "    </tr>\n",
       "    <tr>\n",
       "      <th>RevolvingUtilizationOfUnsecuredLines</th>\n",
       "      <td>150000.0</td>\n",
       "      <td>6.048438</td>\n",
       "      <td>249.755371</td>\n",
       "      <td>0.0</td>\n",
       "      <td>0.029867</td>\n",
       "      <td>0.154181</td>\n",
       "      <td>0.559046</td>\n",
       "      <td>50708.0</td>\n",
       "    </tr>\n",
       "    <tr>\n",
       "      <th>age</th>\n",
       "      <td>150000.0</td>\n",
       "      <td>52.295207</td>\n",
       "      <td>14.771866</td>\n",
       "      <td>0.0</td>\n",
       "      <td>41.000000</td>\n",
       "      <td>52.000000</td>\n",
       "      <td>63.000000</td>\n",
       "      <td>109.0</td>\n",
       "    </tr>\n",
       "    <tr>\n",
       "      <th>NumberOfTime30-59DaysPastDueNotWorse</th>\n",
       "      <td>150000.0</td>\n",
       "      <td>0.421033</td>\n",
       "      <td>4.192781</td>\n",
       "      <td>0.0</td>\n",
       "      <td>0.000000</td>\n",
       "      <td>0.000000</td>\n",
       "      <td>0.000000</td>\n",
       "      <td>98.0</td>\n",
       "    </tr>\n",
       "    <tr>\n",
       "      <th>DebtRatio</th>\n",
       "      <td>150000.0</td>\n",
       "      <td>353.005076</td>\n",
       "      <td>2037.818523</td>\n",
       "      <td>0.0</td>\n",
       "      <td>0.175074</td>\n",
       "      <td>0.366508</td>\n",
       "      <td>0.868254</td>\n",
       "      <td>329664.0</td>\n",
       "    </tr>\n",
       "    <tr>\n",
       "      <th>MonthlyIncome</th>\n",
       "      <td>120269.0</td>\n",
       "      <td>6670.221237</td>\n",
       "      <td>14384.674215</td>\n",
       "      <td>0.0</td>\n",
       "      <td>3400.000000</td>\n",
       "      <td>5400.000000</td>\n",
       "      <td>8249.000000</td>\n",
       "      <td>3008750.0</td>\n",
       "    </tr>\n",
       "    <tr>\n",
       "      <th>NumberOfOpenCreditLinesAndLoans</th>\n",
       "      <td>150000.0</td>\n",
       "      <td>8.452760</td>\n",
       "      <td>5.145951</td>\n",
       "      <td>0.0</td>\n",
       "      <td>5.000000</td>\n",
       "      <td>8.000000</td>\n",
       "      <td>11.000000</td>\n",
       "      <td>58.0</td>\n",
       "    </tr>\n",
       "    <tr>\n",
       "      <th>NumberOfTimes90DaysLate</th>\n",
       "      <td>150000.0</td>\n",
       "      <td>0.265973</td>\n",
       "      <td>4.169304</td>\n",
       "      <td>0.0</td>\n",
       "      <td>0.000000</td>\n",
       "      <td>0.000000</td>\n",
       "      <td>0.000000</td>\n",
       "      <td>98.0</td>\n",
       "    </tr>\n",
       "    <tr>\n",
       "      <th>NumberRealEstateLoansOrLines</th>\n",
       "      <td>150000.0</td>\n",
       "      <td>1.018240</td>\n",
       "      <td>1.129771</td>\n",
       "      <td>0.0</td>\n",
       "      <td>0.000000</td>\n",
       "      <td>1.000000</td>\n",
       "      <td>2.000000</td>\n",
       "      <td>54.0</td>\n",
       "    </tr>\n",
       "    <tr>\n",
       "      <th>NumberOfTime60-89DaysPastDueNotWorse</th>\n",
       "      <td>150000.0</td>\n",
       "      <td>0.240387</td>\n",
       "      <td>4.155179</td>\n",
       "      <td>0.0</td>\n",
       "      <td>0.000000</td>\n",
       "      <td>0.000000</td>\n",
       "      <td>0.000000</td>\n",
       "      <td>98.0</td>\n",
       "    </tr>\n",
       "    <tr>\n",
       "      <th>NumberOfDependents</th>\n",
       "      <td>146076.0</td>\n",
       "      <td>0.757222</td>\n",
       "      <td>1.115086</td>\n",
       "      <td>0.0</td>\n",
       "      <td>0.000000</td>\n",
       "      <td>0.000000</td>\n",
       "      <td>1.000000</td>\n",
       "      <td>20.0</td>\n",
       "    </tr>\n",
       "  </tbody>\n",
       "</table>\n",
       "</div>"
      ],
      "text/plain": [
       "                                         count         mean           std  \\\n",
       "SeriousDlqin2yrs                      150000.0     0.066840      0.249746   \n",
       "RevolvingUtilizationOfUnsecuredLines  150000.0     6.048438    249.755371   \n",
       "age                                   150000.0    52.295207     14.771866   \n",
       "NumberOfTime30-59DaysPastDueNotWorse  150000.0     0.421033      4.192781   \n",
       "DebtRatio                             150000.0   353.005076   2037.818523   \n",
       "MonthlyIncome                         120269.0  6670.221237  14384.674215   \n",
       "NumberOfOpenCreditLinesAndLoans       150000.0     8.452760      5.145951   \n",
       "NumberOfTimes90DaysLate               150000.0     0.265973      4.169304   \n",
       "NumberRealEstateLoansOrLines          150000.0     1.018240      1.129771   \n",
       "NumberOfTime60-89DaysPastDueNotWorse  150000.0     0.240387      4.155179   \n",
       "NumberOfDependents                    146076.0     0.757222      1.115086   \n",
       "\n",
       "                                      min          25%          50%  \\\n",
       "SeriousDlqin2yrs                      0.0     0.000000     0.000000   \n",
       "RevolvingUtilizationOfUnsecuredLines  0.0     0.029867     0.154181   \n",
       "age                                   0.0    41.000000    52.000000   \n",
       "NumberOfTime30-59DaysPastDueNotWorse  0.0     0.000000     0.000000   \n",
       "DebtRatio                             0.0     0.175074     0.366508   \n",
       "MonthlyIncome                         0.0  3400.000000  5400.000000   \n",
       "NumberOfOpenCreditLinesAndLoans       0.0     5.000000     8.000000   \n",
       "NumberOfTimes90DaysLate               0.0     0.000000     0.000000   \n",
       "NumberRealEstateLoansOrLines          0.0     0.000000     1.000000   \n",
       "NumberOfTime60-89DaysPastDueNotWorse  0.0     0.000000     0.000000   \n",
       "NumberOfDependents                    0.0     0.000000     0.000000   \n",
       "\n",
       "                                              75%        max  \n",
       "SeriousDlqin2yrs                         0.000000        1.0  \n",
       "RevolvingUtilizationOfUnsecuredLines     0.559046    50708.0  \n",
       "age                                     63.000000      109.0  \n",
       "NumberOfTime30-59DaysPastDueNotWorse     0.000000       98.0  \n",
       "DebtRatio                                0.868254   329664.0  \n",
       "MonthlyIncome                         8249.000000  3008750.0  \n",
       "NumberOfOpenCreditLinesAndLoans         11.000000       58.0  \n",
       "NumberOfTimes90DaysLate                  0.000000       98.0  \n",
       "NumberRealEstateLoansOrLines             2.000000       54.0  \n",
       "NumberOfTime60-89DaysPastDueNotWorse     0.000000       98.0  \n",
       "NumberOfDependents                       1.000000       20.0  "
      ]
     },
     "execution_count": 7,
     "metadata": {},
     "output_type": "execute_result"
    }
   ],
   "source": [
    "print(df.shape)\n",
    "df.describe(include = \"all\").T"
   ]
  },
  {
   "cell_type": "code",
   "execution_count": 8,
   "id": "9d06345d",
   "metadata": {},
   "outputs": [
    {
     "name": "stdout",
     "output_type": "stream",
     "text": [
      "<class 'pandas.core.frame.DataFrame'>\n",
      "Int64Index: 150000 entries, 1 to 150000\n",
      "Data columns (total 11 columns):\n",
      " #   Column                                Non-Null Count   Dtype  \n",
      "---  ------                                --------------   -----  \n",
      " 0   SeriousDlqin2yrs                      150000 non-null  int64  \n",
      " 1   RevolvingUtilizationOfUnsecuredLines  150000 non-null  float64\n",
      " 2   age                                   150000 non-null  int64  \n",
      " 3   NumberOfTime30-59DaysPastDueNotWorse  150000 non-null  int64  \n",
      " 4   DebtRatio                             150000 non-null  float64\n",
      " 5   MonthlyIncome                         120269 non-null  float64\n",
      " 6   NumberOfOpenCreditLinesAndLoans       150000 non-null  int64  \n",
      " 7   NumberOfTimes90DaysLate               150000 non-null  int64  \n",
      " 8   NumberRealEstateLoansOrLines          150000 non-null  int64  \n",
      " 9   NumberOfTime60-89DaysPastDueNotWorse  150000 non-null  int64  \n",
      " 10  NumberOfDependents                    146076 non-null  float64\n",
      "dtypes: float64(4), int64(7)\n",
      "memory usage: 13.7 MB\n"
     ]
    }
   ],
   "source": [
    "df.info()"
   ]
  },
  {
   "cell_type": "markdown",
   "id": "13415f0d",
   "metadata": {},
   "source": [
    "## Подготовка данных"
   ]
  },
  {
   "cell_type": "code",
   "execution_count": 9,
   "id": "4f4adff0",
   "metadata": {},
   "outputs": [],
   "source": [
    "# месячный доход пропуски заменим средним значением\n",
    "df['MonthlyIncome']=df['MonthlyIncome'].fillna(df['MonthlyIncome'].median()).astype(float)"
   ]
  },
  {
   "cell_type": "code",
   "execution_count": 10,
   "id": "2631d967",
   "metadata": {},
   "outputs": [],
   "source": [
    "#NumberOfDependent (количество иждивенцев в семье) должно быть целым, а стоит число с плаввающей точкой\n",
    "# преобразуем тип переменных\n",
    "# пропуски заменяю на ноль, т.к.это большинство\n",
    "df['NumberOfDependents']=df['NumberOfDependents'].fillna(0).astype(int)"
   ]
  },
  {
   "cell_type": "code",
   "execution_count": 11,
   "id": "b31c3d95",
   "metadata": {},
   "outputs": [],
   "source": [
    "# нулевой возраст быть не может, поэтому можем удалить это значение или заменить средним. удалю\n",
    "df=df[(df['age']!=0)]"
   ]
  },
  {
   "cell_type": "code",
   "execution_count": 12,
   "id": "1f76d4e8",
   "metadata": {},
   "outputs": [
    {
     "name": "stdout",
     "output_type": "stream",
     "text": [
      "<class 'pandas.core.frame.DataFrame'>\n",
      "Int64Index: 149999 entries, 1 to 150000\n",
      "Data columns (total 11 columns):\n",
      " #   Column                                Non-Null Count   Dtype  \n",
      "---  ------                                --------------   -----  \n",
      " 0   SeriousDlqin2yrs                      149999 non-null  int64  \n",
      " 1   RevolvingUtilizationOfUnsecuredLines  149999 non-null  float64\n",
      " 2   age                                   149999 non-null  int64  \n",
      " 3   NumberOfTime30-59DaysPastDueNotWorse  149999 non-null  int64  \n",
      " 4   DebtRatio                             149999 non-null  float64\n",
      " 5   MonthlyIncome                         149999 non-null  float64\n",
      " 6   NumberOfOpenCreditLinesAndLoans       149999 non-null  int64  \n",
      " 7   NumberOfTimes90DaysLate               149999 non-null  int64  \n",
      " 8   NumberRealEstateLoansOrLines          149999 non-null  int64  \n",
      " 9   NumberOfTime60-89DaysPastDueNotWorse  149999 non-null  int64  \n",
      " 10  NumberOfDependents                    149999 non-null  int32  \n",
      "dtypes: float64(3), int32(1), int64(7)\n",
      "memory usage: 13.2 MB\n"
     ]
    }
   ],
   "source": [
    "df.info()"
   ]
  },
  {
   "cell_type": "code",
   "execution_count": 13,
   "id": "c41dbcf0",
   "metadata": {},
   "outputs": [],
   "source": [
    "y = df['SeriousDlqin2yrs']\n",
    "X = df.drop(['SeriousDlqin2yrs'], axis=1)"
   ]
  },
  {
   "cell_type": "code",
   "execution_count": 14,
   "id": "c6ac5fda",
   "metadata": {},
   "outputs": [],
   "source": [
    "X_train, X_test, y_train, y_test = train_test_split(X,y, train_size=0.7, random_state=42)"
   ]
  },
  {
   "cell_type": "code",
   "execution_count": 15,
   "id": "95e93083",
   "metadata": {},
   "outputs": [],
   "source": [
    "ss=StandardScaler()\n",
    "X_train_scaled = ss.fit_transform(X_train)\n",
    "X_test_scaled = ss.fit_transform(X_test)"
   ]
  },
  {
   "cell_type": "markdown",
   "id": "cabb447e",
   "metadata": {},
   "source": [
    "# Torch"
   ]
  },
  {
   "cell_type": "code",
   "execution_count": 79,
   "id": "50de2d23",
   "metadata": {},
   "outputs": [],
   "source": [
    "import torch\n",
    "import torch.nn as nn\n",
    "import torch.nn.functional as F\n",
    "from torch.utils.data import Dataset, DataLoader\n"
   ]
  },
  {
   "cell_type": "code",
   "execution_count": 80,
   "id": "1d03b766",
   "metadata": {},
   "outputs": [],
   "source": [
    "# проскалируем данные и разобьем на train and test\n",
    "ss=StandardScaler()\n",
    "X = ss.fit_transform(X)\n",
    "X_train, X_test, y_train, y_test = train_test_split(X, y, \n",
    "                                                    train_size=0.7, \n",
    "                                                    random_state=42, \n",
    "                                                    stratify=y)"
   ]
  },
  {
   "cell_type": "code",
   "execution_count": 81,
   "id": "bed7c66c",
   "metadata": {},
   "outputs": [],
   "source": [
    "class Data(Dataset):\n",
    "    '''Dataset Class to store the samples and their corresponding labels, \n",
    "  and DataLoader wraps an iterable around the Dataset to enable easy access to the samples.\n",
    "  '''\n",
    "\n",
    "    def __init__(self, X: np.ndarray, y: np.ndarray) -> None:\n",
    "        # ужно преобразовать float64 в float32, иначе будет ошибка \n",
    "        # RuntimeError: expected scalar type Double but found Float\n",
    "        self.X = torch.from_numpy(X.astype(np.float32))\n",
    "        self.y = torch.from_numpy(y.astype(np.float32))\n",
    "        self.len = self.X.shape[0]\n",
    "  \n",
    "    def __getitem__(self, index: int) -> tuple:\n",
    "        return self.X[index], self.y[index]\n",
    "\n",
    "    def __len__(self) -> int:\n",
    "        return self.len"
   ]
  },
  {
   "cell_type": "code",
   "execution_count": 82,
   "id": "182bcd39",
   "metadata": {},
   "outputs": [],
   "source": [
    "# Сгенерируем обучающий набор данных\n",
    "traindata = Data(X_train, y_train.to_numpy())"
   ]
  },
  {
   "cell_type": "code",
   "execution_count": 83,
   "id": "64718604",
   "metadata": {},
   "outputs": [],
   "source": [
    "batch_size = 1024\n",
    "# Загрузите тренировочные данные в загрузчик данных с помощью respective batch_size and num_workers\n",
    "trainloader = DataLoader(traindata, batch_size=batch_size, \n",
    "                         shuffle=True, num_workers=0)"
   ]
  },
  {
   "cell_type": "code",
   "execution_count": 89,
   "id": "a904c022",
   "metadata": {},
   "outputs": [],
   "source": [
    "class LinearRegression(nn.Module):\n",
    "  '''\n",
    "    Multilayer Perceptron for regression.\n",
    "  '''\n",
    "  def __init__(self):\n",
    "    super().__init__()\n",
    "    self.layers = nn.Sequential(\n",
    "      nn.Linear(10, 100),\n",
    "      nn.ReLU(),\n",
    "      nn.Linear(100, 50),\n",
    "      nn.ReLU(),\n",
    "      nn.Linear(50, 25), \n",
    "      nn.ReLU(),\n",
    "      nn.Linear(25, 1), \n",
    "      nn.Sigmoid()\n",
    "    )\n",
    "  \n",
    "  def forward(self, x):\n",
    "    '''\n",
    "      Forward pass\n",
    "    '''\n",
    "    return self.layers(x)"
   ]
  },
  {
   "cell_type": "code",
   "execution_count": 90,
   "id": "f924da05",
   "metadata": {},
   "outputs": [
    {
     "data": {
      "text/plain": [
       "LinearRegression(\n",
       "  (layers): Sequential(\n",
       "    (0): Linear(in_features=10, out_features=100, bias=True)\n",
       "    (1): ReLU()\n",
       "    (2): Linear(in_features=100, out_features=50, bias=True)\n",
       "    (3): ReLU()\n",
       "    (4): Linear(in_features=50, out_features=25, bias=True)\n",
       "    (5): ReLU()\n",
       "    (6): Linear(in_features=25, out_features=1, bias=True)\n",
       "    (7): Sigmoid()\n",
       "  )\n",
       ")"
      ]
     },
     "execution_count": 90,
     "metadata": {},
     "output_type": "execute_result"
    }
   ],
   "source": [
    "model = LinearRegression()\n",
    "model"
   ]
  },
  {
   "cell_type": "code",
   "execution_count": 102,
   "id": "7b9afebd",
   "metadata": {},
   "outputs": [],
   "source": [
    "# критерий для вычисления потерь между input and target\n",
    "#criterion = nn.BCEWithLogitsLoss()\n",
    "criterion = nn.BCELoss() # Создает критерий, который измеряет the Binary Cross Entropy between the target and the input probabilities\n",
    "# оптимизатор, который будет использоваться для обновления весов и смещений\n",
    "optimizer = torch.optim.Adam(model.parameters(), lr=0.1)"
   ]
  },
  {
   "cell_type": "markdown",
   "id": "fb8cae1b",
   "metadata": {},
   "source": [
    "criterion = nn.BCEWithLogitsLoss()\n",
    "- This loss combines a Sigmoid layer and the BCELoss in one single class. This version is more numerically stable than using a plain Sigmoid followed by a BCELoss as, by combining the operations into one layer, we take advantage of the log-sum-exp trick for numerical stability. "
   ]
  },
  {
   "cell_type": "code",
   "execution_count": 103,
   "id": "2653effc",
   "metadata": {},
   "outputs": [
    {
     "data": {
      "text/plain": [
       "LinearRegression(\n",
       "  (layers): Sequential(\n",
       "    (0): Linear(in_features=10, out_features=100, bias=True)\n",
       "    (1): ReLU()\n",
       "    (2): Linear(in_features=100, out_features=50, bias=True)\n",
       "    (3): ReLU()\n",
       "    (4): Linear(in_features=50, out_features=25, bias=True)\n",
       "    (5): ReLU()\n",
       "    (6): Linear(in_features=25, out_features=1, bias=True)\n",
       "    (7): Sigmoid()\n",
       "  )\n",
       ")"
      ]
     },
     "execution_count": 103,
     "metadata": {},
     "output_type": "execute_result"
    }
   ],
   "source": [
    "model.train()"
   ]
  },
  {
   "cell_type": "code",
   "execution_count": 104,
   "id": "9c1084fb",
   "metadata": {},
   "outputs": [
    {
     "name": "stdout",
     "output_type": "stream",
     "text": [
      "Starting epoch 1\n",
      "Loss after mini-batch     1: 0.013\n",
      "Loss after mini-batch    11: 0.042\n",
      "Loss after mini-batch    21: 0.006\n",
      "Loss after mini-batch    31: 0.005\n",
      "Loss after mini-batch    41: 0.004\n",
      "Loss after mini-batch    51: 0.004\n",
      "Loss after mini-batch    61: 0.004\n",
      "Loss after mini-batch    71: 0.004\n",
      "Loss after mini-batch    81: 0.004\n",
      "Loss after mini-batch    91: 0.004\n",
      "Loss after mini-batch   101: 0.004\n",
      "Starting epoch 2\n",
      "Loss after mini-batch     1: 0.000\n",
      "Loss after mini-batch    11: 0.004\n",
      "Loss after mini-batch    21: 0.004\n",
      "Loss after mini-batch    31: 0.004\n",
      "Loss after mini-batch    41: 0.004\n",
      "Loss after mini-batch    51: 0.004\n",
      "Loss after mini-batch    61: 0.004\n",
      "Loss after mini-batch    71: 0.004\n",
      "Loss after mini-batch    81: 0.004\n",
      "Loss after mini-batch    91: 0.004\n",
      "Loss after mini-batch   101: 0.004\n",
      "Starting epoch 3\n",
      "Loss after mini-batch     1: 0.000\n",
      "Loss after mini-batch    11: 0.004\n",
      "Loss after mini-batch    21: 0.004\n",
      "Loss after mini-batch    31: 0.004\n",
      "Loss after mini-batch    41: 0.004\n",
      "Loss after mini-batch    51: 0.004\n",
      "Loss after mini-batch    61: 0.004\n",
      "Loss after mini-batch    71: 0.004\n",
      "Loss after mini-batch    81: 0.004\n",
      "Loss after mini-batch    91: 0.004\n",
      "Loss after mini-batch   101: 0.004\n",
      "Starting epoch 4\n",
      "Loss after mini-batch     1: 0.000\n",
      "Loss after mini-batch    11: 0.004\n",
      "Loss after mini-batch    21: 0.004\n",
      "Loss after mini-batch    31: 0.004\n",
      "Loss after mini-batch    41: 0.004\n",
      "Loss after mini-batch    51: 0.004\n",
      "Loss after mini-batch    61: 0.004\n",
      "Loss after mini-batch    71: 0.004\n",
      "Loss after mini-batch    81: 0.004\n",
      "Loss after mini-batch    91: 0.004\n",
      "Loss after mini-batch   101: 0.004\n",
      "Starting epoch 5\n",
      "Loss after mini-batch     1: 0.000\n",
      "Loss after mini-batch    11: 0.004\n",
      "Loss after mini-batch    21: 0.004\n",
      "Loss after mini-batch    31: 0.004\n",
      "Loss after mini-batch    41: 0.004\n",
      "Loss after mini-batch    51: 0.004\n",
      "Loss after mini-batch    61: 0.004\n",
      "Loss after mini-batch    71: 0.004\n",
      "Loss after mini-batch    81: 0.004\n",
      "Loss after mini-batch    91: 0.004\n",
      "Loss after mini-batch   101: 0.004\n",
      "Training process has finished.\n"
     ]
    }
   ],
   "source": [
    "# Run the training loop\n",
    "for epoch in range(0, 5): # 5 epochs at maximum\n",
    "    \n",
    "    # Print epoch\n",
    "    print(f'Starting epoch {epoch+1}')\n",
    "    \n",
    "    # Set current loss value\n",
    "    current_loss = 0.0\n",
    "    \n",
    "    # Iterate over the DataLoader for training data\n",
    "    for i, data in enumerate(trainloader, 0):\n",
    "        # Get and prepare inputs\n",
    "     \n",
    "        inputs, targets = data\n",
    "        \n",
    "        inputs, targets = inputs.float(), targets.float()\n",
    "        targets = targets.reshape((targets.shape[0], 1))\n",
    "      \n",
    "        # Zero the gradients\n",
    "        optimizer.zero_grad()\n",
    "      \n",
    "        # Perform forward pass\n",
    "        outputs = model(inputs)\n",
    "      \n",
    "        # Compute loss\n",
    "        loss = criterion(outputs, targets)\n",
    "      \n",
    "        # Perform backward pass\n",
    "        loss.backward()\n",
    "      \n",
    "        # Perform optimization\n",
    "        optimizer.step()\n",
    "      \n",
    "        # Print statistics\n",
    "        current_loss += loss.item()\n",
    "        if i % 10 == 0:\n",
    "            print('Loss after mini-batch %5d: %.3f' %\n",
    "                (i + 1, current_loss / 500))\n",
    "            current_loss = 0.0\n",
    "\n",
    "# Process is complete.\n",
    "print('Training process has finished.')"
   ]
  },
  {
   "cell_type": "code",
   "execution_count": 105,
   "id": "9ed6a3b0",
   "metadata": {},
   "outputs": [],
   "source": [
    "testdata = Data(X_test, y_test.to_numpy())\n",
    "testloader = DataLoader(testdata, batch_size=batch_size, \n",
    "                        shuffle=True, num_workers=0)"
   ]
  },
  {
   "cell_type": "code",
   "execution_count": 123,
   "id": "eb69aa76",
   "metadata": {},
   "outputs": [
    {
     "name": "stdout",
     "output_type": "stream",
     "text": [
      "Точность результатов Accuracy 93.32%\n"
     ]
    }
   ],
   "source": [
    "model.eval()\n",
    "num_correct = 0\n",
    "num_examples = 0\n",
    "with torch.no_grad():\n",
    "    for i, (inputs, labels) in enumerate(testloader):\n",
    "        predictions = model(inputs)\n",
    "        labels = torch.from_numpy(labels.detach().cpu().numpy())\n",
    "        predictions = torch.from_numpy(predictions.detach().cpu().numpy())\n",
    "        correct = torch.eq(torch.max(F.sigmoid(predictions), dim=1)[1], labels)\n",
    "        num_correct += torch.sum(correct).item()\n",
    "        num_examples += correct.shape[0]\n",
    "print(\"Точность результатов Accuracy %.2f%%\" % ( 100 * num_correct / num_examples))"
   ]
  },
  {
   "cell_type": "markdown",
   "id": "f5da872d",
   "metadata": {},
   "source": [
    "# Сравнение Torch и Tensorflow.keras \n",
    "\n"
   ]
  },
  {
   "cell_type": "markdown",
   "id": "a424e5d0",
   "metadata": {},
   "source": [
    "Точность результатов +/- совпадает, отличия незначительные.\n",
    "Torch быстрее работает, за счет этого выигрывает. В основном всё \"из коробки\""
   ]
  },
  {
   "cell_type": "markdown",
   "id": "7418c326",
   "metadata": {},
   "source": [
    "#### Хороший пример Обучение модели классификатора изображений с помощью PyTorch\n",
    "https://learn.microsoft.com/ru-ru/windows/ai/windows-ml/tutorials/pytorch-train-model"
   ]
  },
  {
   "cell_type": "code",
   "execution_count": null,
   "id": "5012ac54",
   "metadata": {},
   "outputs": [],
   "source": []
  },
  {
   "cell_type": "code",
   "execution_count": null,
   "id": "5edf0496",
   "metadata": {},
   "outputs": [],
   "source": []
  },
  {
   "cell_type": "markdown",
   "id": "f37c046c",
   "metadata": {},
   "source": [
    "## Модель 1"
   ]
  },
  {
   "cell_type": "markdown",
   "id": "ec907ad0",
   "metadata": {},
   "source": [
    "## Создаем нейронную сеть"
   ]
  },
  {
   "cell_type": "markdown",
   "id": "a186ca44",
   "metadata": {},
   "source": [
    "* Первая строка создает Sequential модель. Это самый простой вид модели Keras для нейронных сетей, которые просто состоят из одного стека слоев, соединенных последовательно. Это называется последовательным API.\n",
    "* Далее мы строим первый слой и добавляем его в модель. Это слой Flatten - этот слой не имеет никаких параметров; это просто сделать некоторую простую предварительную обработку. Поскольку это первый слой в модели, вы должны указать input_shape , который не включает размер пакета, а только форму экземпляров.\n",
    "* Затем мы добавляем Dense скрытый слой с 30 нейронами. Он будет использовать функцию активации ReLU. relu(...): Применяет функцию активации выпрямленного линейного блока. Каждый Dense слой управляет своей собственной весовой матрицей, содержащей все веса соединений между нейронами и их входами. Он также управляет вектором терминов смещения (по одному на нейрон). Когда он получает некоторые входные данные, он вычисляет уравнение 10-2 .\n",
    "* Затем мы добавляем второй плотный скрытый слой со 10 нейронами, также используя функцию активации ReLU.\n",
    "\n",
    "* Наконец, мы добавляем Dense выходной слой с 1 нейроном, используя сигмовидную функцию активации sigmoid(...): сигмовидная функция активации, sigmoid(x) = 1 / (1 + exp(-x)).\n",
    " https://www.tensorflow.org/api_docs/python/tf/keras/activations"
   ]
  },
  {
   "cell_type": "code",
   "execution_count": 28,
   "id": "bd70679f",
   "metadata": {},
   "outputs": [],
   "source": [
    "model = tf.keras.models.Sequential([\n",
    "    tf.keras.layers.Flatten(input_shape = X_train.shape[1:]),#входной слой. Flatten Выравнивает ввод. Не влияет на размер партии.\n",
    "    tf.keras.layers.Dense(30, activation=\"relu\"), # скрытый слой\n",
    "    tf.keras.layers.Dense(10, activation=\"relu\"), # скрытый плотный слой\n",
    "    tf.keras.layers.Dense(1, activation=\"sigmoid\") #выходной слой\n",
    "])\n"
   ]
  },
  {
   "cell_type": "code",
   "execution_count": 30,
   "id": "71843036",
   "metadata": {},
   "outputs": [
    {
     "name": "stdout",
     "output_type": "stream",
     "text": [
      "Model: \"sequential_1\"\n",
      "_________________________________________________________________\n",
      " Layer (type)                Output Shape              Param #   \n",
      "=================================================================\n",
      " flatten_5 (Flatten)         (None, 10)                0         \n",
      "                                                                 \n",
      " dense_15 (Dense)            (None, 30)                330       \n",
      "                                                                 \n",
      " dense_16 (Dense)            (None, 10)                310       \n",
      "                                                                 \n",
      " dense_17 (Dense)            (None, 1)                 11        \n",
      "                                                                 \n",
      "=================================================================\n",
      "Total params: 651\n",
      "Trainable params: 651\n",
      "Non-trainable params: 0\n",
      "_________________________________________________________________\n",
      "None\n"
     ]
    }
   ],
   "source": [
    "print(model.summary())"
   ]
  },
  {
   "cell_type": "code",
   "execution_count": 31,
   "id": "62c5a5b8",
   "metadata": {},
   "outputs": [],
   "source": [
    "model.compile(loss=\"binary_crossentropy\", optimizer=\"adam\", metrics=[\"accuracy\"])\n"
   ]
  },
  {
   "cell_type": "markdown",
   "id": "9a2d7975",
   "metadata": {},
   "source": [
    "* optimizer https://www.tensorflow.org/api_docs/python/tf/keras/optimizers\n",
    "В этом алгоритме оптимизации используются скользящие средние как градиентов, так и вторых моментов градиентов. \n",
    "* class BinaryCrossentropy: вычисляет кросс-энтропийную потерю между истинными метками и предсказанными метками.\n",
    " https://www.tensorflow.org/api_docs/python/tf/keras/losses"
   ]
  },
  {
   "cell_type": "markdown",
   "id": "b79c09c0",
   "metadata": {},
   "source": [
    "## Обучаем нейронную сеть"
   ]
  },
  {
   "cell_type": "markdown",
   "id": "ebb18379",
   "metadata": {},
   "source": [
    "* batch_size - Целое или None. Количество выборок на пакет вычислений. Если не указано, по умолчанию будет 32. Не указывайте, если ваши данные представлены в виде набора данных, генераторов или экземпляров (поскольку они генерируют пакеты). batch_sizebatch_sizekeras.utils.Sequence\n",
    "\n",
    "* epochs - Целое. Количество эпох для обучения модели. Эпоха — это итерация по всем x и y предоставленным данным (если только the steps_per_epoch flag флаг не установлен в значение, отличное от None). Обратите внимание, что в сочетании с initial_epoch, epochs следует понимать как «последняя эпоха». Модель не обучается для количества итераций, заданного , а только до тех пор, пока не будет достигнута эпоха индекса .steps_per_epochinitial_epochepochsepochsepochs\n"
   ]
  },
  {
   "cell_type": "code",
   "execution_count": 32,
   "id": "2c16c40c",
   "metadata": {},
   "outputs": [
    {
     "name": "stdout",
     "output_type": "stream",
     "text": [
      "Epoch 1/20\n",
      "3282/3282 [==============================] - 20s 6ms/step - loss: 0.2134 - accuracy: 0.9308 - val_loss: 0.1884 - val_accuracy: 0.9353\n",
      "Epoch 2/20\n",
      "3282/3282 [==============================] - 18s 6ms/step - loss: 0.1914 - accuracy: 0.9353 - val_loss: 0.1864 - val_accuracy: 0.9354\n",
      "Epoch 3/20\n",
      "3282/3282 [==============================] - 18s 6ms/step - loss: 0.1904 - accuracy: 0.9354 - val_loss: 0.1862 - val_accuracy: 0.9357\n",
      "Epoch 4/20\n",
      "3282/3282 [==============================] - 18s 6ms/step - loss: 0.1898 - accuracy: 0.9355 - val_loss: 0.1855 - val_accuracy: 0.9358\n",
      "Epoch 5/20\n",
      "3282/3282 [==============================] - 19s 6ms/step - loss: 0.1895 - accuracy: 0.9359 - val_loss: 0.1863 - val_accuracy: 0.9365\n",
      "Epoch 6/20\n",
      "3282/3282 [==============================] - 19s 6ms/step - loss: 0.1889 - accuracy: 0.9362 - val_loss: 0.1857 - val_accuracy: 0.9368\n",
      "Epoch 7/20\n",
      "3282/3282 [==============================] - 19s 6ms/step - loss: 0.1886 - accuracy: 0.9363 - val_loss: 0.1867 - val_accuracy: 0.9367\n",
      "Epoch 8/20\n",
      "3282/3282 [==============================] - 19s 6ms/step - loss: 0.1884 - accuracy: 0.9367 - val_loss: 0.1853 - val_accuracy: 0.9368\n",
      "Epoch 9/20\n",
      "3282/3282 [==============================] - 19s 6ms/step - loss: 0.1882 - accuracy: 0.9366 - val_loss: 0.1851 - val_accuracy: 0.9373\n",
      "Epoch 10/20\n",
      "3282/3282 [==============================] - 19s 6ms/step - loss: 0.1877 - accuracy: 0.9365 - val_loss: 0.1848 - val_accuracy: 0.9362\n",
      "Epoch 11/20\n",
      "3282/3282 [==============================] - 19s 6ms/step - loss: 0.1876 - accuracy: 0.9368 - val_loss: 0.1843 - val_accuracy: 0.9370\n",
      "Epoch 12/20\n",
      "3282/3282 [==============================] - 20s 6ms/step - loss: 0.1878 - accuracy: 0.9367 - val_loss: 0.1847 - val_accuracy: 0.9367\n",
      "Epoch 13/20\n",
      "3282/3282 [==============================] - 19s 6ms/step - loss: 0.1875 - accuracy: 0.9363 - val_loss: 0.1850 - val_accuracy: 0.9367\n",
      "Epoch 14/20\n",
      "3282/3282 [==============================] - 20s 6ms/step - loss: 0.1873 - accuracy: 0.9369 - val_loss: 0.1861 - val_accuracy: 0.9364\n",
      "Epoch 15/20\n",
      "3282/3282 [==============================] - 19s 6ms/step - loss: 0.1875 - accuracy: 0.9365 - val_loss: 0.1847 - val_accuracy: 0.9367\n",
      "Epoch 16/20\n",
      "3282/3282 [==============================] - 20s 6ms/step - loss: 0.1872 - accuracy: 0.9368 - val_loss: 0.1848 - val_accuracy: 0.9369\n",
      "Epoch 17/20\n",
      "3282/3282 [==============================] - 20s 6ms/step - loss: 0.1871 - accuracy: 0.9369 - val_loss: 0.1849 - val_accuracy: 0.9366\n",
      "Epoch 18/20\n",
      "3282/3282 [==============================] - 19s 6ms/step - loss: 0.1870 - accuracy: 0.9368 - val_loss: 0.1852 - val_accuracy: 0.9369\n",
      "Epoch 19/20\n",
      "3282/3282 [==============================] - 19s 6ms/step - loss: 0.1870 - accuracy: 0.9370 - val_loss: 0.1849 - val_accuracy: 0.9365\n",
      "Epoch 20/20\n",
      "3282/3282 [==============================] - 19s 6ms/step - loss: 0.1869 - accuracy: 0.9369 - val_loss: 0.1860 - val_accuracy: 0.9365\n",
      "CPU times: total: 8min 15s\n",
      "Wall time: 6min 23s\n"
     ]
    }
   ],
   "source": [
    "%%time\n",
    "history = model.fit(X_train_scaled, y_train, batch_size=None, epochs=20, validation_data=(X_test_scaled, y_test))"
   ]
  },
  {
   "cell_type": "code",
   "execution_count": 33,
   "id": "9b82eaee",
   "metadata": {},
   "outputs": [
    {
     "name": "stdout",
     "output_type": "stream",
     "text": [
      "AUC работы на тестовых данных: 93.46%\n"
     ]
    }
   ],
   "source": [
    "scores = model.evaluate(X_test, y_test, verbose=0)\n",
    "\n",
    "print(\"AUC работы на тестовых данных: %.2f%%\" % (scores[1]*100))"
   ]
  },
  {
   "cell_type": "code",
   "execution_count": 34,
   "id": "8f0ee4c3",
   "metadata": {},
   "outputs": [
    {
     "name": "stdout",
     "output_type": "stream",
     "text": [
      "Epoch 1/20\n",
      "821/821 [==============================] - 5s 6ms/step - loss: 0.1859 - accuracy: 0.9371 - val_loss: 0.1848 - val_accuracy: 0.9365\n",
      "Epoch 2/20\n",
      "821/821 [==============================] - 5s 6ms/step - loss: 0.1858 - accuracy: 0.9371 - val_loss: 0.1847 - val_accuracy: 0.9366\n",
      "Epoch 3/20\n",
      "821/821 [==============================] - 5s 6ms/step - loss: 0.1858 - accuracy: 0.9372 - val_loss: 0.1850 - val_accuracy: 0.9366\n",
      "Epoch 4/20\n",
      "821/821 [==============================] - 5s 6ms/step - loss: 0.1858 - accuracy: 0.9370 - val_loss: 0.1845 - val_accuracy: 0.9367\n",
      "Epoch 5/20\n",
      "821/821 [==============================] - 5s 6ms/step - loss: 0.1858 - accuracy: 0.9370 - val_loss: 0.1866 - val_accuracy: 0.9361\n",
      "Epoch 6/20\n",
      "821/821 [==============================] - 5s 6ms/step - loss: 0.1858 - accuracy: 0.9370 - val_loss: 0.1852 - val_accuracy: 0.9364\n",
      "Epoch 7/20\n",
      "821/821 [==============================] - 5s 6ms/step - loss: 0.1857 - accuracy: 0.9371 - val_loss: 0.1858 - val_accuracy: 0.9362\n",
      "Epoch 8/20\n",
      "821/821 [==============================] - 5s 6ms/step - loss: 0.1857 - accuracy: 0.9369 - val_loss: 0.1847 - val_accuracy: 0.9366\n",
      "Epoch 9/20\n",
      "821/821 [==============================] - 5s 6ms/step - loss: 0.1857 - accuracy: 0.9371 - val_loss: 0.1854 - val_accuracy: 0.9364\n",
      "Epoch 10/20\n",
      "821/821 [==============================] - 5s 6ms/step - loss: 0.1856 - accuracy: 0.9373 - val_loss: 0.1849 - val_accuracy: 0.9364\n",
      "Epoch 11/20\n",
      "821/821 [==============================] - 5s 6ms/step - loss: 0.1855 - accuracy: 0.9371 - val_loss: 0.1846 - val_accuracy: 0.9367\n",
      "Epoch 12/20\n",
      "821/821 [==============================] - 5s 6ms/step - loss: 0.1855 - accuracy: 0.9369 - val_loss: 0.1842 - val_accuracy: 0.9367\n",
      "Epoch 13/20\n",
      "821/821 [==============================] - 5s 6ms/step - loss: 0.1855 - accuracy: 0.9372 - val_loss: 0.1858 - val_accuracy: 0.9361\n",
      "Epoch 14/20\n",
      "821/821 [==============================] - 5s 6ms/step - loss: 0.1854 - accuracy: 0.9369 - val_loss: 0.1850 - val_accuracy: 0.9362\n",
      "Epoch 15/20\n",
      "821/821 [==============================] - 5s 6ms/step - loss: 0.1855 - accuracy: 0.9372 - val_loss: 0.1843 - val_accuracy: 0.9366\n",
      "Epoch 16/20\n",
      "821/821 [==============================] - 5s 6ms/step - loss: 0.1853 - accuracy: 0.9372 - val_loss: 0.1846 - val_accuracy: 0.9365\n",
      "Epoch 17/20\n",
      "821/821 [==============================] - 5s 6ms/step - loss: 0.1852 - accuracy: 0.9370 - val_loss: 0.1846 - val_accuracy: 0.9364\n",
      "Epoch 18/20\n",
      "821/821 [==============================] - 5s 6ms/step - loss: 0.1853 - accuracy: 0.9372 - val_loss: 0.1849 - val_accuracy: 0.9361\n",
      "Epoch 19/20\n",
      "821/821 [==============================] - 5s 6ms/step - loss: 0.1852 - accuracy: 0.9370 - val_loss: 0.1850 - val_accuracy: 0.9361\n",
      "Epoch 20/20\n",
      "821/821 [==============================] - 5s 6ms/step - loss: 0.1852 - accuracy: 0.9371 - val_loss: 0.1846 - val_accuracy: 0.9367\n",
      "CPU times: total: 2min 9s\n",
      "Wall time: 1min 38s\n"
     ]
    }
   ],
   "source": [
    "%%time\n",
    "history = model.fit(X_train_scaled, y_train, batch_size=128, epochs=20, validation_data=(X_test_scaled, y_test))"
   ]
  },
  {
   "cell_type": "code",
   "execution_count": 35,
   "id": "509bc186",
   "metadata": {},
   "outputs": [
    {
     "name": "stdout",
     "output_type": "stream",
     "text": [
      "AUC работы на тестовых данных: 92.46%\n"
     ]
    }
   ],
   "source": [
    "scores = model.evaluate(X_test, y_test, verbose=0)\n",
    "\n",
    "print(\"AUC работы на тестовых данных: %.2f%%\" % (scores[1]*100))"
   ]
  },
  {
   "cell_type": "code",
   "execution_count": 36,
   "id": "844d9633",
   "metadata": {},
   "outputs": [
    {
     "name": "stdout",
     "output_type": "stream",
     "text": [
      "Epoch 1/20\n",
      "103/103 [==============================] - 1s 6ms/step - loss: 30.2253 - accuracy: 0.8940 - val_loss: 14.6940 - val_accuracy: 0.9233\n",
      "Epoch 2/20\n",
      "103/103 [==============================] - 0s 5ms/step - loss: 13.0632 - accuracy: 0.8861 - val_loss: 22.5982 - val_accuracy: 0.9344\n",
      "Epoch 3/20\n",
      "103/103 [==============================] - 0s 5ms/step - loss: 10.6981 - accuracy: 0.8932 - val_loss: 8.0996 - val_accuracy: 0.3177\n",
      "Epoch 4/20\n",
      "103/103 [==============================] - 1s 5ms/step - loss: 10.3098 - accuracy: 0.8847 - val_loss: 2.9607 - val_accuracy: 0.9322\n",
      "Epoch 5/20\n",
      "103/103 [==============================] - 1s 5ms/step - loss: 7.6398 - accuracy: 0.8855 - val_loss: 11.7731 - val_accuracy: 0.9340\n",
      "Epoch 6/20\n",
      "103/103 [==============================] - 1s 5ms/step - loss: 6.6897 - accuracy: 0.8858 - val_loss: 4.0099 - val_accuracy: 0.9328\n",
      "Epoch 7/20\n",
      "103/103 [==============================] - 1s 6ms/step - loss: 8.7499 - accuracy: 0.8840 - val_loss: 10.5793 - val_accuracy: 0.9341\n",
      "Epoch 8/20\n",
      "103/103 [==============================] - 1s 5ms/step - loss: 4.4997 - accuracy: 0.8857 - val_loss: 1.3970 - val_accuracy: 0.8455\n",
      "Epoch 9/20\n",
      "103/103 [==============================] - 1s 5ms/step - loss: 5.1023 - accuracy: 0.8899 - val_loss: 3.8476 - val_accuracy: 0.9334\n",
      "Epoch 10/20\n",
      "103/103 [==============================] - 1s 5ms/step - loss: 3.5275 - accuracy: 0.8885 - val_loss: 0.7863 - val_accuracy: 0.9194\n",
      "Epoch 11/20\n",
      "103/103 [==============================] - 0s 5ms/step - loss: 4.1135 - accuracy: 0.8935 - val_loss: 5.7941 - val_accuracy: 0.9341\n",
      "Epoch 12/20\n",
      "103/103 [==============================] - 1s 5ms/step - loss: 5.5356 - accuracy: 0.8862 - val_loss: 1.8362 - val_accuracy: 0.8943\n",
      "Epoch 13/20\n",
      "103/103 [==============================] - 0s 5ms/step - loss: 1.1790 - accuracy: 0.8935 - val_loss: 5.7835 - val_accuracy: 0.9343\n",
      "Epoch 14/20\n",
      "103/103 [==============================] - 0s 5ms/step - loss: 5.3855 - accuracy: 0.8949 - val_loss: 1.7141 - val_accuracy: 0.9315\n",
      "Epoch 15/20\n",
      "103/103 [==============================] - 0s 5ms/step - loss: 5.2226 - accuracy: 0.8901 - val_loss: 1.0833 - val_accuracy: 0.8765\n",
      "Epoch 16/20\n",
      "103/103 [==============================] - 1s 5ms/step - loss: 0.8052 - accuracy: 0.9007 - val_loss: 0.5836 - val_accuracy: 0.9167\n",
      "Epoch 17/20\n",
      "103/103 [==============================] - 1s 5ms/step - loss: 5.0267 - accuracy: 0.8966 - val_loss: 1.5767 - val_accuracy: 0.9322\n",
      "Epoch 18/20\n",
      "103/103 [==============================] - 1s 5ms/step - loss: 4.3043 - accuracy: 0.8846 - val_loss: 5.9706 - val_accuracy: 0.9340\n",
      "Epoch 19/20\n",
      "103/103 [==============================] - 1s 5ms/step - loss: 7.3500 - accuracy: 0.8861 - val_loss: 7.6388 - val_accuracy: 0.9342\n",
      "Epoch 20/20\n",
      "103/103 [==============================] - 1s 5ms/step - loss: 5.6418 - accuracy: 0.8828 - val_loss: 9.6231 - val_accuracy: 0.9344\n",
      "CPU times: total: 15.1 s\n",
      "Wall time: 11.1 s\n"
     ]
    }
   ],
   "source": [
    "%%time\n",
    "history = model.fit(X_train, y_train, batch_size=1024, epochs=20, validation_data=(X_test, y_test))"
   ]
  },
  {
   "cell_type": "code",
   "execution_count": 37,
   "id": "d86fd5d0",
   "metadata": {},
   "outputs": [
    {
     "name": "stdout",
     "output_type": "stream",
     "text": [
      "AUC работы на тестовых данных: 93.44%\n"
     ]
    }
   ],
   "source": [
    "scores = model.evaluate(X_test, y_test, verbose=0)\n",
    "\n",
    "print(\"AUC работы на тестовых данных: %.2f%%\" % (scores[1]*100))"
   ]
  },
  {
   "cell_type": "markdown",
   "id": "35dceb87",
   "metadata": {},
   "source": [
    "## Модель 2"
   ]
  },
  {
   "cell_type": "code",
   "execution_count": 38,
   "id": "cb22a879",
   "metadata": {},
   "outputs": [],
   "source": [
    "model = tf.keras.models.Sequential([\n",
    "    tf.keras.layers.Flatten(input_shape = X_train.shape[1:]),#входной слой. Flatten Выравнивает ввод. Не влияет на размер партии.\n",
    "    tf.keras.layers.Dense(30, activation=\"relu\"), # скрытый слой\n",
    "    tf.keras.layers.Dense(1, activation=\"sigmoid\") #выходной слой\n",
    "])\n"
   ]
  },
  {
   "cell_type": "code",
   "execution_count": 41,
   "id": "c4ab6a11",
   "metadata": {},
   "outputs": [
    {
     "name": "stdout",
     "output_type": "stream",
     "text": [
      "Model: \"sequential_2\"\n",
      "_________________________________________________________________\n",
      " Layer (type)                Output Shape              Param #   \n",
      "=================================================================\n",
      " flatten_6 (Flatten)         (None, 10)                0         \n",
      "                                                                 \n",
      " dense_18 (Dense)            (None, 30)                330       \n",
      "                                                                 \n",
      " dense_19 (Dense)            (None, 1)                 31        \n",
      "                                                                 \n",
      "=================================================================\n",
      "Total params: 361\n",
      "Trainable params: 361\n",
      "Non-trainable params: 0\n",
      "_________________________________________________________________\n"
     ]
    }
   ],
   "source": [
    "model.summary()"
   ]
  },
  {
   "cell_type": "code",
   "execution_count": 42,
   "id": "50bbb694",
   "metadata": {},
   "outputs": [],
   "source": [
    "model.compile(loss=\"binary_crossentropy\", optimizer=\"adam\", metrics=[\"accuracy\"])"
   ]
  },
  {
   "cell_type": "code",
   "execution_count": 43,
   "id": "97610ab8",
   "metadata": {},
   "outputs": [
    {
     "name": "stdout",
     "output_type": "stream",
     "text": [
      "Epoch 1/20\n",
      "103/103 [==============================] - 1s 8ms/step - loss: 86.7736 - accuracy: 0.7554 - val_loss: 5.0075 - val_accuracy: 0.2693\n",
      "Epoch 2/20\n",
      "103/103 [==============================] - 1s 7ms/step - loss: 1.5499 - accuracy: 0.8894 - val_loss: 0.7881 - val_accuracy: 0.9050\n",
      "Epoch 3/20\n",
      "103/103 [==============================] - 1s 6ms/step - loss: 0.7460 - accuracy: 0.9137 - val_loss: 0.6087 - val_accuracy: 0.8982\n",
      "Epoch 4/20\n",
      "103/103 [==============================] - 1s 6ms/step - loss: 0.6528 - accuracy: 0.9145 - val_loss: 0.4807 - val_accuracy: 0.9336\n",
      "Epoch 5/20\n",
      "103/103 [==============================] - 1s 6ms/step - loss: 0.8982 - accuracy: 0.9050 - val_loss: 0.6449 - val_accuracy: 0.9331\n",
      "Epoch 6/20\n",
      "103/103 [==============================] - 1s 6ms/step - loss: 0.5003 - accuracy: 0.9222 - val_loss: 1.0484 - val_accuracy: 0.9345\n",
      "Epoch 7/20\n",
      "103/103 [==============================] - 1s 6ms/step - loss: 1.2305 - accuracy: 0.8964 - val_loss: 1.0729 - val_accuracy: 0.9340\n",
      "Epoch 8/20\n",
      "103/103 [==============================] - 1s 6ms/step - loss: 1.5558 - accuracy: 0.8898 - val_loss: 2.1548 - val_accuracy: 0.9286\n",
      "Epoch 9/20\n",
      "103/103 [==============================] - 1s 6ms/step - loss: 0.6383 - accuracy: 0.9233 - val_loss: 1.4659 - val_accuracy: 0.9347\n",
      "Epoch 10/20\n",
      "103/103 [==============================] - 1s 6ms/step - loss: 1.3128 - accuracy: 0.8920 - val_loss: 0.5396 - val_accuracy: 0.9345\n",
      "Epoch 11/20\n",
      "103/103 [==============================] - 1s 6ms/step - loss: 0.8493 - accuracy: 0.9113 - val_loss: 2.7108 - val_accuracy: 0.9344\n",
      "Epoch 12/20\n",
      "103/103 [==============================] - 1s 5ms/step - loss: 1.7938 - accuracy: 0.8862 - val_loss: 2.4343 - val_accuracy: 0.9346\n",
      "Epoch 13/20\n",
      "103/103 [==============================] - 1s 6ms/step - loss: 1.0021 - accuracy: 0.9073 - val_loss: 0.2882 - val_accuracy: 0.9314\n",
      "Epoch 14/20\n",
      "103/103 [==============================] - 1s 6ms/step - loss: 0.3206 - accuracy: 0.9303 - val_loss: 0.6971 - val_accuracy: 0.9347\n",
      "Epoch 15/20\n",
      "103/103 [==============================] - 1s 5ms/step - loss: 0.4838 - accuracy: 0.9239 - val_loss: 0.4880 - val_accuracy: 0.8481\n",
      "Epoch 16/20\n",
      "103/103 [==============================] - 1s 6ms/step - loss: 1.6515 - accuracy: 0.8992 - val_loss: 0.7536 - val_accuracy: 0.9009\n",
      "Epoch 17/20\n",
      "103/103 [==============================] - 1s 6ms/step - loss: 0.3172 - accuracy: 0.9287 - val_loss: 0.2561 - val_accuracy: 0.9340\n",
      "Epoch 18/20\n",
      "103/103 [==============================] - 1s 6ms/step - loss: 1.4734 - accuracy: 0.8934 - val_loss: 2.5653 - val_accuracy: 0.9347\n",
      "Epoch 19/20\n",
      "103/103 [==============================] - 1s 6ms/step - loss: 2.3340 - accuracy: 0.8854 - val_loss: 3.5975 - val_accuracy: 0.9347\n",
      "Epoch 20/20\n",
      "103/103 [==============================] - 1s 6ms/step - loss: 1.7640 - accuracy: 0.8845 - val_loss: 1.3995 - val_accuracy: 0.3078\n",
      "CPU times: total: 16.1 s\n",
      "Wall time: 12.7 s\n"
     ]
    }
   ],
   "source": [
    "%%time\n",
    "history = model.fit(X_train, y_train, batch_size=1024, epochs=20, validation_data=(X_test, y_test))"
   ]
  },
  {
   "cell_type": "code",
   "execution_count": 44,
   "id": "bd80a82a",
   "metadata": {},
   "outputs": [
    {
     "name": "stdout",
     "output_type": "stream",
     "text": [
      "AUC работы на тестовых данных: 30.78%\n"
     ]
    }
   ],
   "source": [
    "scores = model.evaluate(X_test, y_test, verbose=0)\n",
    "\n",
    "print(\"AUC работы на тестовых данных: %.2f%%\" % (scores[1]*100))"
   ]
  },
  {
   "cell_type": "markdown",
   "id": "f70c0a9a",
   "metadata": {},
   "source": [
    "## Модель 3"
   ]
  },
  {
   "cell_type": "code",
   "execution_count": 45,
   "id": "6f1825ea",
   "metadata": {},
   "outputs": [],
   "source": [
    "model = tf.keras.models.Sequential([\n",
    "    tf.keras.layers.Flatten(input_shape = X_train.shape[1:]),#входной слой. Flatten Выравнивает ввод. Не влияет на размер партии.\n",
    "    tf.keras.layers.Dense(30, activation=\"relu\"), # скрытый слой\n",
    "    tf.keras.layers.Dense(20, activation=\"relu\"), # плотный слой\n",
    "    tf.keras.layers.Dense(10, activation=\"relu\"), # плотный слой\n",
    "    tf.keras.layers.Dense(1, activation=\"sigmoid\") #выходной слой\n",
    "])\n"
   ]
  },
  {
   "cell_type": "code",
   "execution_count": 46,
   "id": "e6c3b025",
   "metadata": {},
   "outputs": [
    {
     "name": "stdout",
     "output_type": "stream",
     "text": [
      "Model: \"sequential_3\"\n",
      "_________________________________________________________________\n",
      " Layer (type)                Output Shape              Param #   \n",
      "=================================================================\n",
      " flatten_7 (Flatten)         (None, 10)                0         \n",
      "                                                                 \n",
      " dense_20 (Dense)            (None, 30)                330       \n",
      "                                                                 \n",
      " dense_21 (Dense)            (None, 20)                620       \n",
      "                                                                 \n",
      " dense_22 (Dense)            (None, 10)                210       \n",
      "                                                                 \n",
      " dense_23 (Dense)            (None, 1)                 11        \n",
      "                                                                 \n",
      "=================================================================\n",
      "Total params: 1,171\n",
      "Trainable params: 1,171\n",
      "Non-trainable params: 0\n",
      "_________________________________________________________________\n"
     ]
    }
   ],
   "source": [
    "model.summary()"
   ]
  },
  {
   "cell_type": "code",
   "execution_count": 47,
   "id": "f93e2b65",
   "metadata": {},
   "outputs": [],
   "source": [
    "model.compile(loss=\"binary_crossentropy\", optimizer=\"adam\", metrics=[\"accuracy\"])"
   ]
  },
  {
   "cell_type": "code",
   "execution_count": 48,
   "id": "bf794257",
   "metadata": {},
   "outputs": [
    {
     "name": "stdout",
     "output_type": "stream",
     "text": [
      "Epoch 1/20\n",
      "103/103 [==============================] - 1s 8ms/step - loss: 30.1739 - accuracy: 0.8322 - val_loss: 1.1339 - val_accuracy: 0.9247\n",
      "Epoch 2/20\n",
      "103/103 [==============================] - 1s 6ms/step - loss: 1.0109 - accuracy: 0.8816 - val_loss: 1.2032 - val_accuracy: 0.9275\n",
      "Epoch 3/20\n",
      "103/103 [==============================] - 1s 5ms/step - loss: 0.8460 - accuracy: 0.8845 - val_loss: 1.6905 - val_accuracy: 0.9333\n",
      "Epoch 4/20\n",
      "103/103 [==============================] - 1s 5ms/step - loss: 1.6445 - accuracy: 0.8811 - val_loss: 0.4900 - val_accuracy: 0.9332\n",
      "Epoch 5/20\n",
      "103/103 [==============================] - 1s 5ms/step - loss: 1.7332 - accuracy: 0.8916 - val_loss: 0.4877 - val_accuracy: 0.9343\n",
      "Epoch 6/20\n",
      "103/103 [==============================] - 1s 5ms/step - loss: 1.9869 - accuracy: 0.8872 - val_loss: 2.0864 - val_accuracy: 0.9324\n",
      "Epoch 7/20\n",
      "103/103 [==============================] - 1s 5ms/step - loss: 1.6000 - accuracy: 0.8730 - val_loss: 2.4958 - val_accuracy: 0.9348\n",
      "Epoch 8/20\n",
      "103/103 [==============================] - 1s 5ms/step - loss: 2.3380 - accuracy: 0.8908 - val_loss: 0.5201 - val_accuracy: 0.9125\n",
      "Epoch 9/20\n",
      "103/103 [==============================] - 1s 5ms/step - loss: 1.4367 - accuracy: 0.8987 - val_loss: 3.2555 - val_accuracy: 0.9346\n",
      "Epoch 10/20\n",
      "103/103 [==============================] - 1s 5ms/step - loss: 2.2905 - accuracy: 0.8986 - val_loss: 0.5984 - val_accuracy: 0.9222\n",
      "Epoch 11/20\n",
      "103/103 [==============================] - 1s 6ms/step - loss: 2.0205 - accuracy: 0.8931 - val_loss: 1.3035 - val_accuracy: 0.9127\n",
      "Epoch 12/20\n",
      "103/103 [==============================] - 1s 5ms/step - loss: 1.5554 - accuracy: 0.8974 - val_loss: 0.3368 - val_accuracy: 0.9346\n",
      "Epoch 13/20\n",
      "103/103 [==============================] - 1s 5ms/step - loss: 1.2493 - accuracy: 0.9163 - val_loss: 0.9101 - val_accuracy: 0.9346\n",
      "Epoch 14/20\n",
      "103/103 [==============================] - 1s 6ms/step - loss: 1.1340 - accuracy: 0.9084 - val_loss: 0.2733 - val_accuracy: 0.9335\n",
      "Epoch 15/20\n",
      "103/103 [==============================] - 1s 6ms/step - loss: 2.2073 - accuracy: 0.8868 - val_loss: 1.9792 - val_accuracy: 0.9346\n",
      "Epoch 16/20\n",
      "103/103 [==============================] - 1s 6ms/step - loss: 1.4663 - accuracy: 0.8948 - val_loss: 1.9640 - val_accuracy: 0.9348\n",
      "Epoch 17/20\n",
      "103/103 [==============================] - 1s 6ms/step - loss: 1.4479 - accuracy: 0.9038 - val_loss: 0.4449 - val_accuracy: 0.9321\n",
      "Epoch 18/20\n",
      "103/103 [==============================] - 1s 5ms/step - loss: 0.3335 - accuracy: 0.9262 - val_loss: 1.4174 - val_accuracy: 0.9346\n",
      "Epoch 19/20\n",
      "103/103 [==============================] - 1s 5ms/step - loss: 1.6588 - accuracy: 0.8895 - val_loss: 1.9648 - val_accuracy: 0.9350\n",
      "Epoch 20/20\n",
      "103/103 [==============================] - 1s 6ms/step - loss: 1.2724 - accuracy: 0.9127 - val_loss: 0.2831 - val_accuracy: 0.9356\n",
      "CPU times: total: 15.5 s\n",
      "Wall time: 12.2 s\n"
     ]
    }
   ],
   "source": [
    "%%time\n",
    "history = model.fit(X_train, y_train, batch_size=1024, epochs=20, validation_data=(X_test, y_test))"
   ]
  },
  {
   "cell_type": "code",
   "execution_count": 49,
   "id": "9bb8b101",
   "metadata": {},
   "outputs": [
    {
     "name": "stdout",
     "output_type": "stream",
     "text": [
      "AUC работы на тестовых данных: 93.56%\n"
     ]
    }
   ],
   "source": [
    "scores = model.evaluate(X_test, y_test, verbose=0)\n",
    "\n",
    "print(\"AUC работы на тестовых данных: %.2f%%\" % (scores[1]*100))"
   ]
  },
  {
   "cell_type": "markdown",
   "id": "91491eb3",
   "metadata": {},
   "source": [
    "# Вывод\n",
    "* от размера выборки batch_size  и количества эпох epochs +- результаты не меняются, отличаются незначительно. Лучший резльтат AUS 93.56%. Существенно отличается только время, при большом количестве эпох или малом размере выборки время увеличивается.\n",
    "* Если не делать плотный слой, то очень падает метрика AUC работы на тестовых данных: 30.78%.\n",
    "* При увеличении плотных слоев ничего не меняетсяя."
   ]
  },
  {
   "cell_type": "code",
   "execution_count": null,
   "id": "06b9fe9f",
   "metadata": {},
   "outputs": [],
   "source": []
  }
 ],
 "metadata": {
  "kernelspec": {
   "display_name": "Python 3 (ipykernel)",
   "language": "python",
   "name": "python3"
  },
  "language_info": {
   "codemirror_mode": {
    "name": "ipython",
    "version": 3
   },
   "file_extension": ".py",
   "mimetype": "text/x-python",
   "name": "python",
   "nbconvert_exporter": "python",
   "pygments_lexer": "ipython3",
   "version": "3.9.12"
  }
 },
 "nbformat": 4,
 "nbformat_minor": 5
}
